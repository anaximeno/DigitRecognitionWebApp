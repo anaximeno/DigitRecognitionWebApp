{
  "nbformat": 4,
  "nbformat_minor": 0,
  "metadata": {
    "interpreter": {
      "hash": "6fe8bbdae9576cd38d715f63505ce5b72703db22056767f2f792b7399a92525e"
    },
    "kernelspec": {
      "name": "python3",
      "display_name": "Python 3.9.5 64-bit ('tensorflow': conda)"
    },
    "language_info": {
      "codemirror_mode": {
        "name": "ipython",
        "version": 3
      },
      "file_extension": ".py",
      "mimetype": "text/x-python",
      "name": "python",
      "nbconvert_exporter": "python",
      "pygments_lexer": "ipython3",
      "version": "3.9.5"
    },
    "colab": {
      "name": "training-the-model.ipynb",
      "provenance": [],
      "collapsed_sections": []
    },
    "accelerator": "GPU"
  },
  "cells": [
    {
      "cell_type": "code",
      "metadata": {
        "colab": {
          "base_uri": "https://localhost:8080/"
        },
        "id": "nEyj65UMhgOL",
        "outputId": "25e9dc0a-275b-4e57-8b55-0a51fddb9c55"
      },
      "source": [
        "%matplotlib inline\n",
        "from tensorflow.keras import layers\n",
        "import matplotlib.pyplot as plt\n",
        "from tensorflow import keras\n",
        "import tensorflow as tf\n",
        "import numpy as np\n",
        "from sklearn.metrics import f1_score, confusion_matrix, ConfusionMatrixDisplay\n",
        "import pandas as pd\n",
        "\n",
        "print(\"TF version: \", tf.__version__)\n",
        "print(\"Keras version: \", keras.__version__)"
      ],
      "execution_count": 1,
      "outputs": [
        {
          "output_type": "stream",
          "text": [
            "TF version:  2.6.0\n",
            "Keras version:  2.6.0\n"
          ],
          "name": "stdout"
        }
      ]
    },
    {
      "cell_type": "code",
      "metadata": {
        "id": "u0R1d0m5hgOX",
        "colab": {
          "base_uri": "https://localhost:8080/"
        },
        "outputId": "c775867f-f28f-42a3-a937-9ea5bf953f4e"
      },
      "source": [
        "mnist = keras.datasets.mnist\n",
        "(X_train, y_train), (X_dev, y_dev) = mnist.load_data()\n",
        "\n",
        "rescale = keras.layers.Rescaling(1/255.)\n",
        "\n",
        "X_train = tf.reshape(rescale(X_train), shape=(-1, 28, 28, 1))\n",
        "X_dev = tf.reshape(rescale(X_dev), shape=(-1, 28, 28, 1))\n",
        "\n",
        "transformations = keras.Sequential([\n",
        "    layers.experimental.preprocessing.RandomRotation(0.01),\n",
        "    layers.experimental.preprocessing.RandomTranslation(0.1, 0.1),\n",
        "    layers.experimental.preprocessing.RandomZoom((-0.3, 0.4))\n",
        "])\n",
        "\n",
        "X_train_t = transformations(X_train)\n",
        "X_dev_t = transformations(X_dev)\n",
        "\n",
        "print(X_train.shape, X_dev.shape)"
      ],
      "execution_count": 3,
      "outputs": [
        {
          "output_type": "stream",
          "text": [
            "Downloading data from https://storage.googleapis.com/tensorflow/tf-keras-datasets/mnist.npz\n",
            "11493376/11490434 [==============================] - 0s 0us/step\n",
            "11501568/11490434 [==============================] - 0s 0us/step\n",
            "(60000, 28, 28, 1) (10000, 28, 28, 1)\n"
          ],
          "name": "stdout"
        }
      ]
    },
    {
      "cell_type": "code",
      "metadata": {
        "id": "j1S4FTKL6JZi"
      },
      "source": [
        "def plot_img(img: np.array, label: int):\n",
        "    print('Number:', label)\n",
        "    plt.imshow(img.squeeze(), cmap='Greys_r')"
      ],
      "execution_count": 4,
      "outputs": []
    },
    {
      "cell_type": "code",
      "metadata": {
        "colab": {
          "base_uri": "https://localhost:8080/",
          "height": 282
        },
        "id": "ICTnuEschgOY",
        "outputId": "9f3c0010-7113-41ca-8063-49f02bb8f60f"
      },
      "source": [
        "n = np.random.randint(X_train_t.shape[0])\n",
        "plot_img(X_train_t[n].numpy(), y_train[n])"
      ],
      "execution_count": 8,
      "outputs": [
        {
          "output_type": "stream",
          "text": [
            "Number: 3\n"
          ],
          "name": "stdout"
        },
        {
          "output_type": "display_data",
          "data": {
            "image/png": "[encoded data removed]",
            "text/plain": [
              "<Figure size 432x288 with 1 Axes>"
            ]
          },
          "metadata": {
            "needs_background": "light"
          }
        }
      ]
    },
    {
      "cell_type": "code",
      "metadata": {
        "colab": {
          "base_uri": "https://localhost:8080/"
        },
        "id": "Xwtisvn8hgOa",
        "outputId": "7bf976ef-7238-48d9-94ff-d75802e8ac8f"
      },
      "source": [
        "model = keras.Sequential([\n",
        "    layers.Conv2D(16, (5, 5), padding='same', activation='relu', input_shape=(28, 28, 1)),\n",
        "    layers.Conv2D(16, (5, 5), padding='same', activation='relu'),\n",
        "    layers.MaxPool2D(2, 2),\n",
        "    layers.Conv2D(32, (3, 3), padding='same', activation='relu'),\n",
        "    layers.Conv2D(32, (3, 3), padding='same', activation='relu'),\n",
        "    layers.Conv2D(32, (3, 3), activation='relu'),\n",
        "    layers.MaxPool2D(2, 2),\n",
        "\n",
        "    layers.Dropout(rate=0.25),\n",
        "\n",
        "    layers.Flatten(),\n",
        "\n",
        "    layers.Dense(units=512, activation='relu'),\n",
        "    layers.Dropout(rate=0.3),\n",
        "    layers.Dense(units=32, activation='relu'),\n",
        "    layers.Dense(units=10, activation='softmax')\n",
        "])\n",
        "\n",
        "model.compile(\n",
        "    optimizer=tf.optimizers.Adam(0.0003),\n",
        "    loss='sparse_categorical_crossentropy',\n",
        "    metrics=['accuracy']\n",
        ")\n",
        "model.summary()"
      ],
      "execution_count": 9,
      "outputs": [
        {
          "output_type": "stream",
          "text": [
            "Model: \"sequential_1\"\n",
            "_________________________________________________________________\n",
            "Layer (type)                 Output Shape              Param #   \n",
            "=================================================================\n",
            "conv2d (Conv2D)              (None, 28, 28, 16)        416       \n",
            "_________________________________________________________________\n",
            "conv2d_1 (Conv2D)            (None, 28, 28, 16)        6416      \n",
            "_________________________________________________________________\n",
            "max_pooling2d (MaxPooling2D) (None, 14, 14, 16)        0         \n",
            "_________________________________________________________________\n",
            "conv2d_2 (Conv2D)            (None, 14, 14, 32)        4640      \n",
            "_________________________________________________________________\n",
            "conv2d_3 (Conv2D)            (None, 14, 14, 32)        9248      \n",
            "_________________________________________________________________\n",
            "conv2d_4 (Conv2D)            (None, 12, 12, 32)        9248      \n",
            "_________________________________________________________________\n",
            "max_pooling2d_1 (MaxPooling2 (None, 6, 6, 32)          0         \n",
            "_________________________________________________________________\n",
            "dropout (Dropout)            (None, 6, 6, 32)          0         \n",
            "_________________________________________________________________\n",
            "flatten (Flatten)            (None, 1152)              0         \n",
            "_________________________________________________________________\n",
            "dense (Dense)                (None, 512)               590336    \n",
            "_________________________________________________________________\n",
            "dropout_1 (Dropout)          (None, 512)               0         \n",
            "_________________________________________________________________\n",
            "dense_1 (Dense)              (None, 32)                16416     \n",
            "_________________________________________________________________\n",
            "dense_2 (Dense)              (None, 10)                330       \n",
            "=================================================================\n",
            "Total params: 637,050\n",
            "Trainable params: 637,050\n",
            "Non-trainable params: 0\n",
            "_________________________________________________________________\n"
          ],
          "name": "stdout"
        }
      ]
    },
    {
      "cell_type": "code",
      "metadata": {
        "colab": {
          "base_uri": "https://localhost:8080/"
        },
        "id": "OQdRpAf3hgOd",
        "outputId": "8646b748-3751-48f9-f6ef-292fcfbf28f1"
      },
      "source": [
        "hist = model.fit(X_train_t, y_train,\n",
        "    batch_size=32, epochs=30,\n",
        "    validation_data=(X_dev_t, y_dev)\n",
        ")"
      ],
      "execution_count": 10,
      "outputs": [
        {
          "output_type": "stream",
          "text": [
            "Epoch 1/30\n",
            "1875/1875 [==============================] - 40s 5ms/step - loss: 0.4017 - accuracy: 0.8717 - val_loss: 0.1013 - val_accuracy: 0.9693\n",
            "Epoch 2/30\n",
            "1875/1875 [==============================] - 8s 4ms/step - loss: 0.1239 - accuracy: 0.9625 - val_loss: 0.0688 - val_accuracy: 0.9784\n",
            "Epoch 3/30\n",
            "1875/1875 [==============================] - 8s 4ms/step - loss: 0.0873 - accuracy: 0.9729 - val_loss: 0.0566 - val_accuracy: 0.9802\n",
            "Epoch 4/30\n",
            "1875/1875 [==============================] - 8s 4ms/step - loss: 0.0704 - accuracy: 0.9780 - val_loss: 0.0420 - val_accuracy: 0.9861\n",
            "Epoch 5/30\n",
            "1875/1875 [==============================] - 8s 4ms/step - loss: 0.0580 - accuracy: 0.9820 - val_loss: 0.0395 - val_accuracy: 0.9870\n",
            "Epoch 6/30\n",
            "1875/1875 [==============================] - 8s 4ms/step - loss: 0.0483 - accuracy: 0.9850 - val_loss: 0.0387 - val_accuracy: 0.9864\n",
            "Epoch 7/30\n",
            "1875/1875 [==============================] - 8s 4ms/step - loss: 0.0425 - accuracy: 0.9862 - val_loss: 0.0384 - val_accuracy: 0.9869\n",
            "Epoch 8/30\n",
            "1875/1875 [==============================] - 8s 4ms/step - loss: 0.0366 - accuracy: 0.9883 - val_loss: 0.0326 - val_accuracy: 0.9895\n",
            "Epoch 9/30\n",
            "1875/1875 [==============================] - 8s 4ms/step - loss: 0.0342 - accuracy: 0.9891 - val_loss: 0.0342 - val_accuracy: 0.9889\n",
            "Epoch 10/30\n",
            "1875/1875 [==============================] - 8s 4ms/step - loss: 0.0300 - accuracy: 0.9904 - val_loss: 0.0320 - val_accuracy: 0.9899\n",
            "Epoch 11/30\n",
            "1875/1875 [==============================] - 8s 4ms/step - loss: 0.0277 - accuracy: 0.9908 - val_loss: 0.0278 - val_accuracy: 0.9911\n",
            "Epoch 12/30\n",
            "1875/1875 [==============================] - 8s 4ms/step - loss: 0.0257 - accuracy: 0.9918 - val_loss: 0.0304 - val_accuracy: 0.9901\n",
            "Epoch 13/30\n",
            "1875/1875 [==============================] - 8s 4ms/step - loss: 0.0229 - accuracy: 0.9930 - val_loss: 0.0333 - val_accuracy: 0.9895\n",
            "Epoch 14/30\n",
            "1875/1875 [==============================] - 8s 4ms/step - loss: 0.0217 - accuracy: 0.9927 - val_loss: 0.0289 - val_accuracy: 0.9904\n",
            "Epoch 15/30\n",
            "1875/1875 [==============================] - 8s 4ms/step - loss: 0.0187 - accuracy: 0.9939 - val_loss: 0.0385 - val_accuracy: 0.9891\n",
            "Epoch 16/30\n",
            "1875/1875 [==============================] - 8s 4ms/step - loss: 0.0180 - accuracy: 0.9943 - val_loss: 0.0346 - val_accuracy: 0.9901\n",
            "Epoch 17/30\n",
            "1875/1875 [==============================] - 8s 4ms/step - loss: 0.0175 - accuracy: 0.9941 - val_loss: 0.0417 - val_accuracy: 0.9891\n",
            "Epoch 18/30\n",
            "1875/1875 [==============================] - 8s 4ms/step - loss: 0.0161 - accuracy: 0.9948 - val_loss: 0.0295 - val_accuracy: 0.9910\n",
            "Epoch 19/30\n",
            "1875/1875 [==============================] - 8s 4ms/step - loss: 0.0151 - accuracy: 0.9947 - val_loss: 0.0319 - val_accuracy: 0.9921\n",
            "Epoch 20/30\n",
            "1875/1875 [==============================] - 8s 4ms/step - loss: 0.0152 - accuracy: 0.9949 - val_loss: 0.0265 - val_accuracy: 0.9918\n",
            "Epoch 21/30\n",
            "1875/1875 [==============================] - 8s 4ms/step - loss: 0.0132 - accuracy: 0.9957 - val_loss: 0.0384 - val_accuracy: 0.9900\n",
            "Epoch 22/30\n",
            "1875/1875 [==============================] - 8s 4ms/step - loss: 0.0125 - accuracy: 0.9957 - val_loss: 0.0300 - val_accuracy: 0.9919\n",
            "Epoch 23/30\n",
            "1875/1875 [==============================] - 8s 4ms/step - loss: 0.0120 - accuracy: 0.9959 - val_loss: 0.0315 - val_accuracy: 0.9911\n",
            "Epoch 24/30\n",
            "1875/1875 [==============================] - 8s 4ms/step - loss: 0.0114 - accuracy: 0.9962 - val_loss: 0.0352 - val_accuracy: 0.9914\n",
            "Epoch 25/30\n",
            "1875/1875 [==============================] - 8s 4ms/step - loss: 0.0125 - accuracy: 0.9958 - val_loss: 0.0320 - val_accuracy: 0.9909\n",
            "Epoch 26/30\n",
            "1875/1875 [==============================] - 8s 4ms/step - loss: 0.0113 - accuracy: 0.9961 - val_loss: 0.0384 - val_accuracy: 0.9916\n",
            "Epoch 27/30\n",
            "1875/1875 [==============================] - 8s 4ms/step - loss: 0.0116 - accuracy: 0.9964 - val_loss: 0.0291 - val_accuracy: 0.9918\n",
            "Epoch 28/30\n",
            "1875/1875 [==============================] - 8s 4ms/step - loss: 0.0102 - accuracy: 0.9964 - val_loss: 0.0341 - val_accuracy: 0.9903\n",
            "Epoch 29/30\n",
            "1875/1875 [==============================] - 8s 4ms/step - loss: 0.0107 - accuracy: 0.9967 - val_loss: 0.0357 - val_accuracy: 0.9911\n",
            "Epoch 30/30\n",
            "1875/1875 [==============================] - 8s 4ms/step - loss: 0.0096 - accuracy: 0.9970 - val_loss: 0.0301 - val_accuracy: 0.9918\n"
          ],
          "name": "stdout"
        }
      ]
    },
    {
      "cell_type": "code",
      "metadata": {
        "colab": {
          "base_uri": "https://localhost:8080/",
          "height": 281
        },
        "id": "P9RH4p_-8tDn",
        "outputId": "acab4c06-af7e-4e8a-d510-e8e6be71c1ea"
      },
      "source": [
        "plt.title('Accuracy')\n",
        "plt.plot(hist.epoch, hist.history['accuracy'])\n",
        "plt.plot(hist.epoch, hist.history['val_accuracy'])\n",
        "plt.legend(['Training accuracy', 'Validation accuracy'])\n",
        "plt.show();"
      ],
      "execution_count": 18,
      "outputs": [
        {
          "output_type": "display_data",
          "data": {
            "image/png": "[encoded data removed]",
            "text/plain": [
              "<Figure size 432x288 with 1 Axes>"
            ]
          },
          "metadata": {
            "needs_background": "light"
          }
        }
      ]
    },
    {
      "cell_type": "code",
      "metadata": {
        "colab": {
          "base_uri": "https://localhost:8080/",
          "height": 281
        },
        "id": "_KR_oHkfArwB",
        "outputId": "a173fc37-d854-4e7d-dc25-9b5dfbe8fa52"
      },
      "source": [
        "plt.title('Loss')\n",
        "plt.plot(hist.epoch, hist.history['loss'])\n",
        "plt.plot(hist.epoch, hist.history['val_loss'])\n",
        "plt.legend(['Trainig loss', 'Validation loss'])\n",
        "plt.show();"
      ],
      "execution_count": 19,
      "outputs": [
        {
          "output_type": "display_data",
          "data": {
            "image/png": "[encoded data removed]",
            "text/plain": [
              "<Figure size 432x288 with 1 Axes>"
            ]
          },
          "metadata": {
            "needs_background": "light"
          }
        }
      ]
    },
    {
      "cell_type": "code",
      "metadata": {
        "id": "s7D63QmKhgOe"
      },
      "source": [
        "p_dev = np.argmax(model.predict(X_dev), axis=1)\n",
        "p_train = np.argmax(model.predict(X_train), axis=1)"
      ],
      "execution_count": 13,
      "outputs": []
    },
    {
      "cell_type": "code",
      "metadata": {
        "colab": {
          "base_uri": "https://localhost:8080/"
        },
        "id": "1LigJ_8Gjklg",
        "outputId": "7ea9fc17-b19b-4458-fbf6-cb31663c6181"
      },
      "source": [
        "print(\"DEV F1 SCORE: \", f1_score(y_dev, p_dev, average='weighted'))\n",
        "print(\"TRAIN F1 SCORE: \", f1_score(y_train, p_train, average='weighted'))"
      ],
      "execution_count": 14,
      "outputs": [
        {
          "output_type": "stream",
          "text": [
            "DEV F1 SCORE:  0.9945007166389916\n",
            "TRAIN F1 SCORE:  0.9947181613319039\n"
          ],
          "name": "stdout"
        }
      ]
    },
    {
      "cell_type": "code",
      "metadata": {
        "colab": {
          "base_uri": "https://localhost:8080/",
          "height": 296
        },
        "id": "lc1P-nzrkbK5",
        "outputId": "e9453d6d-baf7-4108-f7fd-d86d40bab58b"
      },
      "source": [
        "print(\"DEV CONFUSION MATRIX:\")\n",
        "cm = confusion_matrix(y_dev, p_dev)\n",
        "disp = ConfusionMatrixDisplay(confusion_matrix=cm, display_labels=np.arange(0, 10))\n",
        "disp.plot(include_values=True, cmap=plt.cm.Blues, xticks_rotation='horizontal', values_format='');"
      ],
      "execution_count": 15,
      "outputs": [
        {
          "output_type": "stream",
          "text": [
            "DEV CONFUSION MATRIX:\n"
          ],
          "name": "stdout"
        },
        {
          "output_type": "display_data",
          "data": {
            "image/png": "[encoded data removed]",
            "text/plain": [
              "<Figure size 432x288 with 2 Axes>"
            ]
          },
          "metadata": {
            "needs_background": "light"
          }
        }
      ]
    },
    {
      "cell_type": "markdown",
      "metadata": {
        "id": "sG9fZJI6ks7K"
      },
      "source": [
        "**TODO:**   \n",
        "1. anomaly detection / outlier removal\n",
        "2. Retrain the net with better data\n",
        "3. test the network with external data\n",
        "4. if succesful save the net and load in the web app, else repeat the steps again"
      ]
    },
    {
      "cell_type": "code",
      "metadata": {
        "id": "UcSp5-FAmAmk"
      },
      "source": [
        "p_train_logits = model.predict(X_train)"
      ],
      "execution_count": 16,
      "outputs": []
    },
    {
      "cell_type": "code",
      "metadata": {
        "id": "EOWy6RVayx0b"
      },
      "source": [
        "def clean_dataset(X, y, y_pred_logits, clean_percent: float = 0.01):\n",
        "    N_TO_REMOVE = round(X.shape[0] * clean_percent)\n",
        "    max_accuracies_array = np.array(y_pred_logits.max(axis=1))\n",
        "    X_ = X.tolist()\n",
        "    y_ = y.tolist()\n",
        "    all_concat = list(zip(X_, y_, max_accuracies_array.tolist()))\n",
        "    all_concat.sort(key=lambda x: x[2])\n",
        "    X_new, y_new, _ = zip(*all_concat[N_TO_REMOVE:])\n",
        "    return np.array(X_new), np.array(y_new)"
      ],
      "execution_count": 22,
      "outputs": []
    },
    {
      "cell_type": "code",
      "metadata": {
        "colab": {
          "base_uri": "https://localhost:8080/"
        },
        "id": "DFpsu-GH136J",
        "outputId": "612b3461-b4ff-4697-98a8-370b8a569ff9"
      },
      "source": [
        "X_train_clean, y_train_clean = clean_dataset(X_train_t.numpy(), y_train, p_train_logits, 0.0005)\n",
        "X_train_clean.shape, y_train_clean.shape"
      ],
      "execution_count": 23,
      "outputs": [
        {
          "output_type": "execute_result",
          "data": {
            "text/plain": [
              "((59970, 28, 28, 1), (59970,))"
            ]
          },
          "metadata": {},
          "execution_count": 23
        }
      ]
    },
    {
      "cell_type": "code",
      "metadata": {
        "colab": {
          "base_uri": "https://localhost:8080/",
          "height": 282
        },
        "id": "dlh7J99I7CMv",
        "outputId": "84454ea5-5d66-4405-9b06-dd04e5c5e33a"
      },
      "source": [
        "plot_img(X_train_clean[n], y_train_clean[n])"
      ],
      "execution_count": 24,
      "outputs": [
        {
          "output_type": "stream",
          "text": [
            "Number: 3\n"
          ],
          "name": "stdout"
        },
        {
          "output_type": "display_data",
          "data": {
            "image/png": "[encoded data removed]",
            "text/plain": [
              "<Figure size 432x288 with 1 Axes>"
            ]
          },
          "metadata": {
            "needs_background": "light"
          }
        }
      ]
    },
    {
      "cell_type": "code",
      "metadata": {
        "colab": {
          "base_uri": "https://localhost:8080/"
        },
        "id": "OKOPHok88pT3",
        "outputId": "74b622c9-3ffc-40df-c284-462f94896221"
      },
      "source": [
        "model2 = keras.Sequential([\n",
        "    layers.Conv2D(16, (5, 5), padding='same', activation='relu', input_shape=(28, 28, 1)),\n",
        "    layers.Conv2D(16, (5, 5), padding='same', activation='relu'),\n",
        "    layers.MaxPool2D(2, 2),\n",
        "    layers.Conv2D(32, (3, 3), padding='same', activation='relu'),\n",
        "    layers.Conv2D(32, (3, 3), padding='same', activation='relu'),\n",
        "    layers.Conv2D(32, (3, 3), activation='relu'),\n",
        "    layers.MaxPool2D(2, 2),\n",
        "\n",
        "    layers.Dropout(rate=0.25),\n",
        "\n",
        "    layers.Flatten(),\n",
        "\n",
        "    layers.Dense(units=512, activation='relu'),\n",
        "    layers.Dropout(rate=0.3),\n",
        "    layers.Dense(units=32, activation='relu'),\n",
        "    layers.Dense(units=10, activation='softmax')\n",
        "])\n",
        "\n",
        "model2.compile(\n",
        "    optimizer=tf.optimizers.Adam(0.0003),\n",
        "    loss='sparse_categorical_crossentropy',\n",
        "    metrics=['accuracy']\n",
        ")\n",
        "\n",
        "model2.summary()"
      ],
      "execution_count": 29,
      "outputs": [
        {
          "output_type": "stream",
          "text": [
            "Model: \"sequential_3\"\n",
            "_________________________________________________________________\n",
            "Layer (type)                 Output Shape              Param #   \n",
            "=================================================================\n",
            "conv2d_10 (Conv2D)           (None, 28, 28, 16)        416       \n",
            "_________________________________________________________________\n",
            "conv2d_11 (Conv2D)           (None, 28, 28, 16)        6416      \n",
            "_________________________________________________________________\n",
            "max_pooling2d_4 (MaxPooling2 (None, 14, 14, 16)        0         \n",
            "_________________________________________________________________\n",
            "conv2d_12 (Conv2D)           (None, 14, 14, 32)        4640      \n",
            "_________________________________________________________________\n",
            "conv2d_13 (Conv2D)           (None, 14, 14, 32)        9248      \n",
            "_________________________________________________________________\n",
            "conv2d_14 (Conv2D)           (None, 12, 12, 32)        9248      \n",
            "_________________________________________________________________\n",
            "max_pooling2d_5 (MaxPooling2 (None, 6, 6, 32)          0         \n",
            "_________________________________________________________________\n",
            "dropout_4 (Dropout)          (None, 6, 6, 32)          0         \n",
            "_________________________________________________________________\n",
            "flatten_2 (Flatten)          (None, 1152)              0         \n",
            "_________________________________________________________________\n",
            "dense_6 (Dense)              (None, 512)               590336    \n",
            "_________________________________________________________________\n",
            "dropout_5 (Dropout)          (None, 512)               0         \n",
            "_________________________________________________________________\n",
            "dense_7 (Dense)              (None, 32)                16416     \n",
            "_________________________________________________________________\n",
            "dense_8 (Dense)              (None, 10)                330       \n",
            "=================================================================\n",
            "Total params: 637,050\n",
            "Trainable params: 637,050\n",
            "Non-trainable params: 0\n",
            "_________________________________________________________________\n"
          ],
          "name": "stdout"
        }
      ]
    },
    {
      "cell_type": "code",
      "metadata": {
        "colab": {
          "base_uri": "https://localhost:8080/"
        },
        "id": "UT-DssPR7xho",
        "outputId": "b0a0f053-2544-4055-b446-ad470abc8d61"
      },
      "source": [
        "hist2 = model2.fit(X_train_clean, y_train_clean, batch_size=32, epochs=30, validation_data=(X_dev_t, y_dev))"
      ],
      "execution_count": 30,
      "outputs": [
        {
          "output_type": "stream",
          "text": [
            "Epoch 1/30\n",
            "1875/1875 [==============================] - 10s 5ms/step - loss: 0.4080 - accuracy: 0.8686 - val_loss: 0.1118 - val_accuracy: 0.9641\n",
            "Epoch 2/30\n",
            "1875/1875 [==============================] - 9s 5ms/step - loss: 0.1322 - accuracy: 0.9587 - val_loss: 0.0672 - val_accuracy: 0.9780\n",
            "Epoch 3/30\n",
            "1875/1875 [==============================] - 9s 5ms/step - loss: 0.0923 - accuracy: 0.9713 - val_loss: 0.0563 - val_accuracy: 0.9814\n",
            "Epoch 4/30\n",
            "1875/1875 [==============================] - 9s 5ms/step - loss: 0.0716 - accuracy: 0.9778 - val_loss: 0.0461 - val_accuracy: 0.9847\n",
            "Epoch 5/30\n",
            "1875/1875 [==============================] - 9s 5ms/step - loss: 0.0568 - accuracy: 0.9819 - val_loss: 0.0401 - val_accuracy: 0.9870\n",
            "Epoch 6/30\n",
            "1875/1875 [==============================] - 9s 5ms/step - loss: 0.0493 - accuracy: 0.9842 - val_loss: 0.0435 - val_accuracy: 0.9860\n",
            "Epoch 7/30\n",
            "1875/1875 [==============================] - 8s 5ms/step - loss: 0.0426 - accuracy: 0.9863 - val_loss: 0.0365 - val_accuracy: 0.9886\n",
            "Epoch 8/30\n",
            "1875/1875 [==============================] - 9s 5ms/step - loss: 0.0388 - accuracy: 0.9880 - val_loss: 0.0402 - val_accuracy: 0.9856\n",
            "Epoch 9/30\n",
            "1875/1875 [==============================] - 9s 5ms/step - loss: 0.0347 - accuracy: 0.9889 - val_loss: 0.0411 - val_accuracy: 0.9865\n",
            "Epoch 10/30\n",
            "1875/1875 [==============================] - 9s 5ms/step - loss: 0.0304 - accuracy: 0.9904 - val_loss: 0.0297 - val_accuracy: 0.9904\n",
            "Epoch 11/30\n",
            "1875/1875 [==============================] - 9s 5ms/step - loss: 0.0275 - accuracy: 0.9910 - val_loss: 0.0345 - val_accuracy: 0.9890\n",
            "Epoch 12/30\n",
            "1875/1875 [==============================] - 9s 5ms/step - loss: 0.0258 - accuracy: 0.9916 - val_loss: 0.0347 - val_accuracy: 0.9881\n",
            "Epoch 13/30\n",
            "1875/1875 [==============================] - 8s 5ms/step - loss: 0.0230 - accuracy: 0.9923 - val_loss: 0.0259 - val_accuracy: 0.9906\n",
            "Epoch 14/30\n",
            "1875/1875 [==============================] - 8s 4ms/step - loss: 0.0211 - accuracy: 0.9933 - val_loss: 0.0242 - val_accuracy: 0.9922\n",
            "Epoch 15/30\n",
            "1875/1875 [==============================] - 9s 5ms/step - loss: 0.0197 - accuracy: 0.9935 - val_loss: 0.0303 - val_accuracy: 0.9906\n",
            "Epoch 16/30\n",
            "1875/1875 [==============================] - 9s 5ms/step - loss: 0.0190 - accuracy: 0.9937 - val_loss: 0.0315 - val_accuracy: 0.9908\n",
            "Epoch 17/30\n",
            "1875/1875 [==============================] - 9s 5ms/step - loss: 0.0178 - accuracy: 0.9940 - val_loss: 0.0345 - val_accuracy: 0.9891\n",
            "Epoch 18/30\n",
            "1875/1875 [==============================] - 8s 5ms/step - loss: 0.0153 - accuracy: 0.9951 - val_loss: 0.0314 - val_accuracy: 0.9904\n",
            "Epoch 19/30\n",
            "1875/1875 [==============================] - 8s 5ms/step - loss: 0.0157 - accuracy: 0.9947 - val_loss: 0.0302 - val_accuracy: 0.9912\n",
            "Epoch 20/30\n",
            "1875/1875 [==============================] - 9s 5ms/step - loss: 0.0151 - accuracy: 0.9947 - val_loss: 0.0270 - val_accuracy: 0.9915\n",
            "Epoch 21/30\n",
            "1875/1875 [==============================] - 9s 5ms/step - loss: 0.0128 - accuracy: 0.9958 - val_loss: 0.0333 - val_accuracy: 0.9915\n",
            "Epoch 22/30\n",
            "1875/1875 [==============================] - 8s 4ms/step - loss: 0.0137 - accuracy: 0.9954 - val_loss: 0.0302 - val_accuracy: 0.9908\n",
            "Epoch 23/30\n",
            "1875/1875 [==============================] - 8s 5ms/step - loss: 0.0134 - accuracy: 0.9954 - val_loss: 0.0283 - val_accuracy: 0.9910\n",
            "Epoch 24/30\n",
            "1875/1875 [==============================] - 9s 5ms/step - loss: 0.0122 - accuracy: 0.9960 - val_loss: 0.0283 - val_accuracy: 0.9919\n",
            "Epoch 25/30\n",
            "1875/1875 [==============================] - 8s 5ms/step - loss: 0.0118 - accuracy: 0.9960 - val_loss: 0.0326 - val_accuracy: 0.9917\n",
            "Epoch 26/30\n",
            "1875/1875 [==============================] - 8s 5ms/step - loss: 0.0118 - accuracy: 0.9963 - val_loss: 0.0302 - val_accuracy: 0.9919\n",
            "Epoch 27/30\n",
            "1875/1875 [==============================] - 9s 5ms/step - loss: 0.0115 - accuracy: 0.9961 - val_loss: 0.0350 - val_accuracy: 0.9900\n",
            "Epoch 28/30\n",
            "1875/1875 [==============================] - 9s 5ms/step - loss: 0.0107 - accuracy: 0.9966 - val_loss: 0.0304 - val_accuracy: 0.9921\n",
            "Epoch 29/30\n",
            "1875/1875 [==============================] - 8s 5ms/step - loss: 0.0105 - accuracy: 0.9964 - val_loss: 0.0312 - val_accuracy: 0.9919\n",
            "Epoch 30/30\n",
            "1875/1875 [==============================] - 9s 5ms/step - loss: 0.0099 - accuracy: 0.9965 - val_loss: 0.0376 - val_accuracy: 0.9901\n"
          ],
          "name": "stdout"
        }
      ]
    },
    {
      "cell_type": "code",
      "metadata": {
        "colab": {
          "base_uri": "https://localhost:8080/",
          "height": 281
        },
        "id": "0XMyi_5PCQXQ",
        "outputId": "227eb71a-ba32-4697-bde5-d130d582ac2e"
      },
      "source": [
        "plt.title('Accuracy')\n",
        "plt.plot(hist2.epoch, hist2.history['accuracy'])\n",
        "plt.plot(hist2.epoch, hist2.history['val_accuracy'])\n",
        "plt.legend(['Training accuracy', 'Validation accuracy'])\n",
        "plt.show();"
      ],
      "execution_count": 31,
      "outputs": [
        {
          "output_type": "display_data",
          "data": {
            "image/png": "[encoded data removed]",
            "text/plain": [
              "<Figure size 432x288 with 1 Axes>"
            ]
          },
          "metadata": {
            "needs_background": "light"
          }
        }
      ]
    },
    {
      "cell_type": "code",
      "metadata": {
        "colab": {
          "base_uri": "https://localhost:8080/",
          "height": 281
        },
        "id": "RLlLYidfDmNb",
        "outputId": "2bfa68a8-b106-4e8c-d9f1-c0f7eaefa559"
      },
      "source": [
        "plt.title('Loss')\n",
        "plt.plot(hist2.epoch, hist2.history['loss'])\n",
        "plt.plot(hist2.epoch, hist2.history['val_loss'])\n",
        "plt.legend(['Trainig loss', 'Validation loss'])\n",
        "plt.show();"
      ],
      "execution_count": 32,
      "outputs": [
        {
          "output_type": "display_data",
          "data": {
            "image/png": "[encoded data removed]",
            "text/plain": [
              "<Figure size 432x288 with 1 Axes>"
            ]
          },
          "metadata": {
            "needs_background": "light"
          }
        }
      ]
    },
    {
      "cell_type": "markdown",
      "metadata": {
        "id": "CASGQWd0DvFy"
      },
      "source": [
        "## Analysing the models"
      ]
    },
    {
      "cell_type": "code",
      "metadata": {
        "colab": {
          "base_uri": "https://localhost:8080/",
          "height": 281
        },
        "id": "yOgFbXccD4_D",
        "outputId": "74f52d3b-e7bb-4515-c941-ae89d12feeaa"
      },
      "source": [
        "plt.title('Accuracy')\n",
        "plt.plot(hist.epoch, hist.history['val_accuracy'])\n",
        "plt.plot(hist2.epoch, hist2.history['val_accuracy'])\n",
        "plt.legend(['Non cleaned accuracy', 'Cleaned accuracy'])\n",
        "plt.show();"
      ],
      "execution_count": 33,
      "outputs": [
        {
          "output_type": "display_data",
          "data": {
            "image/png": "[encoded data removed]",
            "text/plain": [
              "<Figure size 432x288 with 1 Axes>"
            ]
          },
          "metadata": {
            "needs_background": "light"
          }
        }
      ]
    },
    {
      "cell_type": "code",
      "metadata": {
        "colab": {
          "base_uri": "https://localhost:8080/",
          "height": 281
        },
        "id": "TMR3ITIiEEz7",
        "outputId": "70cf81d0-58c5-4b00-91e2-ae385c36341e"
      },
      "source": [
        "plt.title('Loss')\n",
        "plt.plot(hist.epoch, hist.history['val_loss'])\n",
        "plt.plot(hist2.epoch, hist2.history['val_loss'])\n",
        "plt.legend(['Non Cleaned Loss', 'Cleaned Loss'])\n",
        "plt.show();"
      ],
      "execution_count": 34,
      "outputs": [
        {
          "output_type": "display_data",
          "data": {
            "image/png": "[encoded data removed]",
            "text/plain": [
              "<Figure size 432x288 with 1 Axes>"
            ]
          },
          "metadata": {
            "needs_background": "light"
          }
        }
      ]
    },
    {
      "cell_type": "code",
      "metadata": {
        "colab": {
          "base_uri": "https://localhost:8080/"
        },
        "id": "j3f7ga-KEm7B",
        "outputId": "04289c77-ef1b-4248-b1c7-7751c4b03dd9"
      },
      "source": [
        "print(\"Non cleaned F1 Score:\", f1_score(y_dev, np.argmax(model.predict(X_dev), axis=1), average='weighted'))\n",
        "print(\"Cleaned F1 Score:\", f1_score(y_dev, np.argmax(model2.predict(X_dev), axis=1), average='weighted'))"
      ],
      "execution_count": 35,
      "outputs": [
        {
          "output_type": "stream",
          "text": [
            "Non cleaned F1 Score: 0.9945007166389916\n",
            "Cleaned F1 Score: 0.9928957547672528\n"
          ],
          "name": "stdout"
        }
      ]
    },
    {
      "cell_type": "code",
      "metadata": {
        "id": "L_4Yd3RqGScP"
      },
      "source": [
        "one = tf.constant([0, 0, 0, 0, 0, 0, 0, 0, 0, 0, 0, 0, 0, 0, 0, 0, 0, 0, 0, 0, 0, 0, 0, 0, 0, 0, 0, 0, 0, 0, 0, 0, 0, 0, 0, 0, 0, 0, 0, 0, 0, 0, 0, 0, 0, 0, 0, 0, 0, 0, 0, 0, 0, 0, 0, 0, 0, 0, 0, 0, 0, 0, 0, 0, 0, 0, 0, 0.16326458752155304, 1, 1, 0, 0, 0, 0, 0, 0, 0, 0, 0, 0, 0, 0, 0, 0, 0, 0, 0, 0, 0, 0, 0, 0, 0, 0, 0, 1, 1, 1, 0, 0, 0, 0, 0, 0, 0, 0, 0, 0, 0, 0, 0, 0, 0, 0, 0, 0, 0, 0, 0, 0, 0, 0, 1, 1, 1, 1, 0, 0, 0, 0, 0, 0, 0, 0, 0, 0, 0, 0, 0, 0, 0, 0, 0, 0, 0, 0, 0, 0, 0, 0, 1, 1, 1, 1, 0, 0, 0, 0, 0, 0, 0, 0, 0, 0, 0, 0, 0, 0, 0, 0, 0, 0, 0, 0, 0, 0, 0, 1, 1, 1, 1, 1, 0, 0, 0, 0, 0, 0, 0, 0, 0, 0, 0, 0, 0, 0, 0, 0, 0, 0, 0, 0, 0, 0, 1, 1, 1, 0.5714263319969177, 1, 1, 0, 0, 0, 0, 0, 0, 0, 0, 0, 0, 0, 0, 0, 0, 0, 0, 0, 0, 0, 0, 0, 0.14285658299922943, 1, 1, 0.4897943437099457, 1, 1, 1, 0, 0, 0, 0, 0, 0, 0, 0, 0, 0, 0, 0, 0, 0, 0, 0, 0, 0, 0, 0, 0.24489717185497284, 1, 1, 1, 0, 1, 1, 0.14286039769649506, 0, 0, 0, 0, 0, 0, 0, 0, 0, 0, 0, 0, 0, 0, 0, 0, 0, 0, 0, 0, 1, 1, 0.9996798634529114, 0, 0, 1, 1, 0, 0, 0, 0, 0, 0, 0, 0, 0, 0, 0, 0, 0, 0, 0, 0, 0, 0, 0, 0, 1, 1, 1, 0, 0, 0, 1, 1, 0, 0, 0, 0, 0, 0, 0, 0, 0, 0, 0, 0, 0, 0, 0, 0, 0, 0, 0, 0, 0.20408114790916443, 1, 0, 0, 0, 0, 1, 1, 0, 0, 0, 0, 0, 0, 0, 0, 0, 0, 0, 0, 0, 0, 0, 0, 0, 0, 0, 0, 0, 0, 0, 0, 0, 0, 1, 1, 0, 0, 0, 0, 0, 0, 0, 0, 0, 0, 0, 0, 0, 0, 0, 0, 0, 0, 0, 0, 0, 0, 0, 0, 0, 0, 1, 1, 0, 0, 0, 0, 0, 0, 0, 0, 0, 0, 0, 0, 0, 0, 0, 0, 0, 0, 0, 0, 0, 0, 0, 0, 0, 0, 1, 1, 0, 0, 0, 0, 0, 0, 0, 0, 0, 0, 0, 0, 0, 0, 0, 0, 0, 0, 0, 0, 0, 0, 0, 0, 0, 0.4285736083984375, 1, 1, 0, 0, 0, 0, 0, 0, 0, 0, 0, 0, 0, 0, 0, 0, 0, 0, 0, 0, 0, 0, 0, 0, 0, 0, 0, 1, 1, 0.9983993172645569, 0, 0, 0, 0, 0, 0, 0, 0, 0, 0, 0, 0, 0, 0, 0, 0, 0, 0, 0, 0, 0, 0, 0, 0, 0, 1, 1, 0.5918376445770264, 0, 0, 0, 0, 0, 0, 0, 0, 0, 0, 0, 0, 0, 0, 0, 0, 0, 0, 0, 0, 0, 0, 0, 0, 0, 1, 1, 0.28571316599845886, 0, 0, 0, 0, 0, 0, 0, 0, 0, 0, 0, 0, 0, 0, 0, 0, 0, 0, 0, 0, 0, 0, 0, 0, 0, 1, 1, 0, 0, 0, 0, 0, 0, 0, 0, 0, 0, 0, 0, 0, 0, 0, 0, 0, 0, 0, 0, 0, 0, 0, 0, 0, 0, 1, 1, 0, 0, 0, 0, 0, 0, 0, 0, 0, 0, 0, 0, 0, 0, 0, 0, 0, 0, 0, 0, 0, 0, 0, 0, 0, 0, 1, 1, 0, 0, 0, 0, 0, 0, 0, 0, 0, 0, 0, 0, 0, 0, 0, 0, 0, 0, 0, 0, 0, 0, 0, 0, 0, 0, 1, 1, 0, 0, 0, 0, 0, 0, 0, 0, 0, 0, 0, 0, 0, 0, 0, 0, 0, 0, 0, 0, 0, 0, 0, 0, 0, 0, 0.9990395307540894, 0.7543814182281494, 0, 0, 0, 0, 0, 0, 0, 0, 0, 0, 0, 0, 0, 0, 0, 0, 0, 0, 0, 0, 0, 0, 0, 0, 0, 0, 0, 0, 0, 0, 0, 0, 0, 0, 0, 0, 0, 0, 0, 0, 0, 0, 0, 0, 0, 0, 0, 0, 0, 0, 0, 0, 0, 0, 0, 0, 0, 0, 0, 0, 0, 0, 0, 0, 0, 0, 0, 0, 0, 0, 0, 0, 0, 0, 0, 0, 0, 0, 0, 0, 0, 0, 0, 0, 0, 0, 0, 0, 0, 0, 0, 0, 0, 0, 0, 0, 0, 0, 0, 0], shape=(1, 28, 28, 1))"
      ],
      "execution_count": 36,
      "outputs": []
    },
    {
      "cell_type": "code",
      "metadata": {
        "id": "B7BQCgz1HiCG",
        "colab": {
          "base_uri": "https://localhost:8080/",
          "height": 282
        },
        "outputId": "e5fb0f34-0aad-4a08-edb9-0b71771a3288"
      },
      "source": [
        "plot_img(one.numpy(), 1)"
      ],
      "execution_count": 37,
      "outputs": [
        {
          "output_type": "stream",
          "text": [
            "Number: 1\n"
          ],
          "name": "stdout"
        },
        {
          "output_type": "display_data",
          "data": {
            "image/png": "[encoded data removed]",
            "text/plain": [
              "<Figure size 432x288 with 1 Axes>"
            ]
          },
          "metadata": {
            "needs_background": "light"
          }
        }
      ]
    },
    {
      "cell_type": "code",
      "metadata": {
        "id": "-Pu4W-fpHo3b",
        "colab": {
          "base_uri": "https://localhost:8080/"
        },
        "outputId": "64ee2e19-a1dc-42a6-dced-3147035c5987"
      },
      "source": [
        "p = model.predict(one)\n",
        "print(p.max())\n",
        "np.argmax(p)"
      ],
      "execution_count": 38,
      "outputs": [
        {
          "output_type": "stream",
          "text": [
            "0.9995813\n"
          ],
          "name": "stdout"
        },
        {
          "output_type": "execute_result",
          "data": {
            "text/plain": [
              "1"
            ]
          },
          "metadata": {},
          "execution_count": 38
        }
      ]
    },
    {
      "cell_type": "code",
      "metadata": {
        "id": "VASffZglHwS-",
        "colab": {
          "base_uri": "https://localhost:8080/"
        },
        "outputId": "198df02a-255a-4924-8fd8-9692267cb36c"
      },
      "source": [
        "p = model2.predict(one)\n",
        "print(p.max())\n",
        "np.argmax(p)"
      ],
      "execution_count": 39,
      "outputs": [
        {
          "output_type": "stream",
          "text": [
            "0.9999821\n"
          ],
          "name": "stdout"
        },
        {
          "output_type": "execute_result",
          "data": {
            "text/plain": [
              "1"
            ]
          },
          "metadata": {},
          "execution_count": 39
        }
      ]
    },
    {
      "cell_type": "code",
      "metadata": {
        "id": "5qAjnBziUCLY"
      },
      "source": [
        "model.save('DigitRecognitionModel_v4.h5')"
      ],
      "execution_count": 40,
      "outputs": []
    }
  ]
}