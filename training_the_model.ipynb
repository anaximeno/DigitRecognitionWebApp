{
  "nbformat": 4,
  "nbformat_minor": 0,
  "metadata": {
    "interpreter": {
      "hash": "6fe8bbdae9576cd38d715f63505ce5b72703db22056767f2f792b7399a92525e"
    },
    "kernelspec": {
      "name": "python3",
      "display_name": "Python 3.9.5 64-bit ('tensorflow': conda)"
    },
    "language_info": {
      "codemirror_mode": {
        "name": "ipython",
        "version": 3
      },
      "file_extension": ".py",
      "mimetype": "text/x-python",
      "name": "python",
      "nbconvert_exporter": "python",
      "pygments_lexer": "ipython3",
      "version": "3.9.5"
    },
    "colab": {
      "name": "training-the-model.ipynb",
      "provenance": [],
      "collapsed_sections": []
    },
    "accelerator": "GPU"
  },
  "cells": [
    {
      "cell_type": "code",
      "metadata": {
        "colab": {
          "base_uri": "https://localhost:8080/"
        },
        "id": "nEyj65UMhgOL",
        "outputId": "e9a8fa83-4b9b-48ea-8e8c-0f21fb8c9973"
      },
      "source": [
        "%matplotlib inline\n",
        "from tensorflow.keras import layers\n",
        "import matplotlib.pyplot as plt\n",
        "from tensorflow import keras\n",
        "import tensorflow as tf\n",
        "import numpy as np\n",
        "from sklearn.metrics import f1_score, confusion_matrix, ConfusionMatrixDisplay\n",
        "import pandas as pd\n",
        "\n",
        "print(\"TF version: \", tf.__version__)\n",
        "print(\"Keras version: \", keras.__version__)"
      ],
      "execution_count": 1,
      "outputs": [
        {
          "output_type": "stream",
          "text": [
            "TF version:  2.5.0\n",
            "Keras version:  2.5.0\n"
          ],
          "name": "stdout"
        }
      ]
    },
    {
      "cell_type": "code",
      "metadata": {
        "id": "_g1HQOYkhgOR",
        "outputId": "2b863280-4386-41b9-8749-66fbba8375d6",
        "colab": {
          "base_uri": "https://localhost:8080/"
        }
      },
      "source": [
        "mnist = keras.datasets.mnist\n",
        "(X_train, y_train), (X_dev, y_dev) = mnist.load_data()"
      ],
      "execution_count": 2,
      "outputs": [
        {
          "output_type": "stream",
          "text": [
            "Downloading data from https://storage.googleapis.com/tensorflow/tf-keras-datasets/mnist.npz\n",
            "11493376/11490434 [==============================] - 0s 0us/step\n"
          ],
          "name": "stdout"
        }
      ]
    },
    {
      "cell_type": "code",
      "metadata": {
        "id": "hJIQSf2GhgOT"
      },
      "source": [
        "rescale = keras.Sequential([layers.experimental.preprocessing.Rescaling(1.0/255)])"
      ],
      "execution_count": 3,
      "outputs": []
    },
    {
      "cell_type": "code",
      "metadata": {
        "id": "JgeQ2yWBhgOU"
      },
      "source": [
        "X_train = tf.reshape(rescale(X_train), shape=(-1, 28, 28, 1))\n",
        "X_dev = tf.reshape(rescale(X_dev), shape=(-1, 28, 28, 1))"
      ],
      "execution_count": 4,
      "outputs": []
    },
    {
      "cell_type": "code",
      "metadata": {
        "colab": {
          "base_uri": "https://localhost:8080/"
        },
        "id": "Ou9lRXKfhgOV",
        "outputId": "10b5cce2-6a0c-4dc8-caec-10946515c998"
      },
      "source": [
        "X_train.shape, X_dev.shape"
      ],
      "execution_count": 5,
      "outputs": [
        {
          "output_type": "execute_result",
          "data": {
            "text/plain": [
              "(TensorShape([60000, 28, 28, 1]), TensorShape([10000, 28, 28, 1]))"
            ]
          },
          "metadata": {
            "tags": []
          },
          "execution_count": 5
        }
      ]
    },
    {
      "cell_type": "code",
      "metadata": {
        "id": "u0R1d0m5hgOX"
      },
      "source": [
        "transformations = keras.Sequential([\n",
        "    layers.experimental.preprocessing.RandomRotation(0.01),\n",
        "    layers.experimental.preprocessing.RandomTranslation(0.1, 0.1),\n",
        "    layers.experimental.preprocessing.RandomZoom((-0.1, 0.1))\n",
        "])\n",
        "X_train_transformed = transformations(X_train)\n",
        "X_dev_transformed = transformations(X_dev)"
      ],
      "execution_count": 6,
      "outputs": []
    },
    {
      "cell_type": "code",
      "metadata": {
        "id": "j1S4FTKL6JZi"
      },
      "source": [
        "def plot_img(img: np.array, label: int):\n",
        "    print('Number:', label)\n",
        "    plt.imshow(img.squeeze(), cmap='Greys_r')"
      ],
      "execution_count": 7,
      "outputs": []
    },
    {
      "cell_type": "code",
      "metadata": {
        "colab": {
          "base_uri": "https://localhost:8080/",
          "height": 282
        },
        "id": "ICTnuEschgOY",
        "outputId": "1c24e169-f1d8-456a-be07-3bea6138e590"
      },
      "source": [
        "n = np.random.randint(X_train_transformed.shape[0])\n",
        "plot_img(X_train_transformed[n].numpy(), y_train[n])"
      ],
      "execution_count": 8,
      "outputs": [
        {
          "output_type": "stream",
          "text": [
            "Number: 1\n"
          ],
          "name": "stdout"
        },
        {
          "output_type": "display_data",
          "data": {
            "image/png": "[encoded data removed]",
            "text/plain": [
              "<Figure size 432x288 with 1 Axes>"
            ]
          },
          "metadata": {
            "tags": [],
            "needs_background": "light"
          }
        }
      ]
    },
    {
      "cell_type": "code",
      "metadata": {
        "colab": {
          "base_uri": "https://localhost:8080/"
        },
        "id": "Xwtisvn8hgOa",
        "outputId": "5d5e52ca-ca30-4e4b-ffb4-eee0776f4082"
      },
      "source": [
        "model = keras.Sequential([\n",
        "    layers.Conv2D(32, (5, 5), activation='relu', input_shape=(28, 28, 1)),\n",
        "    layers.MaxPool2D(2, 2),\n",
        "    layers.Conv2D(16, (5, 5), activation='relu'),\n",
        "    layers.MaxPool2D(2, 2),\n",
        "\n",
        "    layers.Dropout(rate=0.3),\n",
        "\n",
        "    layers.Flatten(),\n",
        "\n",
        "    layers.Dense(units=256, activation='relu'),\n",
        "    layers.Dense(units=10, activation='softmax')\n",
        "])\n",
        "\n",
        "model.compile(\n",
        "    optimizer='adam',\n",
        "    loss='sparse_categorical_crossentropy',\n",
        "    metrics=['accuracy']\n",
        ")\n",
        "\n",
        "model.summary()"
      ],
      "execution_count": 9,
      "outputs": [
        {
          "output_type": "stream",
          "text": [
            "Model: \"sequential_2\"\n",
            "_________________________________________________________________\n",
            "Layer (type)                 Output Shape              Param #   \n",
            "=================================================================\n",
            "conv2d (Conv2D)              (None, 24, 24, 32)        832       \n",
            "_________________________________________________________________\n",
            "max_pooling2d (MaxPooling2D) (None, 12, 12, 32)        0         \n",
            "_________________________________________________________________\n",
            "conv2d_1 (Conv2D)            (None, 8, 8, 16)          12816     \n",
            "_________________________________________________________________\n",
            "max_pooling2d_1 (MaxPooling2 (None, 4, 4, 16)          0         \n",
            "_________________________________________________________________\n",
            "dropout (Dropout)            (None, 4, 4, 16)          0         \n",
            "_________________________________________________________________\n",
            "flatten (Flatten)            (None, 256)               0         \n",
            "_________________________________________________________________\n",
            "dense (Dense)                (None, 256)               65792     \n",
            "_________________________________________________________________\n",
            "dense_1 (Dense)              (None, 10)                2570      \n",
            "=================================================================\n",
            "Total params: 82,010\n",
            "Trainable params: 82,010\n",
            "Non-trainable params: 0\n",
            "_________________________________________________________________\n"
          ],
          "name": "stdout"
        }
      ]
    },
    {
      "cell_type": "code",
      "metadata": {
        "colab": {
          "base_uri": "https://localhost:8080/"
        },
        "id": "OQdRpAf3hgOd",
        "outputId": "94f6d093-7726-47a1-d850-a26a063e1d23"
      },
      "source": [
        "hist = model.fit(X_train_transformed, y_train,\n",
        "    batch_size=32, epochs=15,\n",
        "    validation_data=(X_dev_transformed, y_dev)\n",
        ")"
      ],
      "execution_count": 10,
      "outputs": [
        {
          "output_type": "stream",
          "text": [
            "Epoch 1/15\n",
            "1875/1875 [==============================] - 37s 3ms/step - loss: 0.3254 - accuracy: 0.8966 - val_loss: 0.0833 - val_accuracy: 0.9750\n",
            "Epoch 2/15\n",
            "1875/1875 [==============================] - 6s 3ms/step - loss: 0.1234 - accuracy: 0.9616 - val_loss: 0.0653 - val_accuracy: 0.9799\n",
            "Epoch 3/15\n",
            "1875/1875 [==============================] - 6s 3ms/step - loss: 0.0924 - accuracy: 0.9713 - val_loss: 0.0507 - val_accuracy: 0.9838\n",
            "Epoch 4/15\n",
            "1875/1875 [==============================] - 6s 3ms/step - loss: 0.0787 - accuracy: 0.9752 - val_loss: 0.0605 - val_accuracy: 0.9810\n",
            "Epoch 5/15\n",
            "1875/1875 [==============================] - 6s 3ms/step - loss: 0.0660 - accuracy: 0.9790 - val_loss: 0.0419 - val_accuracy: 0.9871\n",
            "Epoch 6/15\n",
            "1875/1875 [==============================] - 6s 3ms/step - loss: 0.0583 - accuracy: 0.9817 - val_loss: 0.0396 - val_accuracy: 0.9869\n",
            "Epoch 7/15\n",
            "1875/1875 [==============================] - 6s 3ms/step - loss: 0.0545 - accuracy: 0.9825 - val_loss: 0.0417 - val_accuracy: 0.9882\n",
            "Epoch 8/15\n",
            "1875/1875 [==============================] - 6s 3ms/step - loss: 0.0508 - accuracy: 0.9835 - val_loss: 0.0388 - val_accuracy: 0.9874\n",
            "Epoch 9/15\n",
            "1875/1875 [==============================] - 6s 3ms/step - loss: 0.0456 - accuracy: 0.9849 - val_loss: 0.0322 - val_accuracy: 0.9894\n",
            "Epoch 10/15\n",
            "1875/1875 [==============================] - 6s 3ms/step - loss: 0.0439 - accuracy: 0.9856 - val_loss: 0.0383 - val_accuracy: 0.9885\n",
            "Epoch 11/15\n",
            "1875/1875 [==============================] - 5s 3ms/step - loss: 0.0400 - accuracy: 0.9869 - val_loss: 0.0379 - val_accuracy: 0.9883\n",
            "Epoch 12/15\n",
            "1875/1875 [==============================] - 6s 3ms/step - loss: 0.0380 - accuracy: 0.9877 - val_loss: 0.0348 - val_accuracy: 0.9891\n",
            "Epoch 13/15\n",
            "1875/1875 [==============================] - 6s 3ms/step - loss: 0.0368 - accuracy: 0.9884 - val_loss: 0.0323 - val_accuracy: 0.9908\n",
            "Epoch 14/15\n",
            "1875/1875 [==============================] - 6s 3ms/step - loss: 0.0358 - accuracy: 0.9880 - val_loss: 0.0387 - val_accuracy: 0.9886\n",
            "Epoch 15/15\n",
            "1875/1875 [==============================] - 6s 3ms/step - loss: 0.0330 - accuracy: 0.9894 - val_loss: 0.0311 - val_accuracy: 0.9911\n"
          ],
          "name": "stdout"
        }
      ]
    },
    {
      "cell_type": "code",
      "metadata": {
        "colab": {
          "base_uri": "https://localhost:8080/",
          "height": 281
        },
        "id": "P9RH4p_-8tDn",
        "outputId": "4ea14bb3-2785-4f7e-8ee9-6f964233043f"
      },
      "source": [
        "plt.title('Accuracy')\n",
        "plt.plot(hist.epoch, hist.history['accuracy'])\n",
        "plt.plot(hist.epoch, hist.history['val_accuracy'])\n",
        "plt.legend(['Training accuracy', 'Validation accuracy'])\n",
        "plt.show();"
      ],
      "execution_count": 11,
      "outputs": [
        {
          "output_type": "display_data",
          "data": {
            "image/png": "[encoded data removed]",
            "text/plain": [
              "<Figure size 432x288 with 1 Axes>"
            ]
          },
          "metadata": {
            "tags": [],
            "needs_background": "light"
          }
        }
      ]
    },
    {
      "cell_type": "code",
      "metadata": {
        "colab": {
          "base_uri": "https://localhost:8080/",
          "height": 281
        },
        "id": "_KR_oHkfArwB",
        "outputId": "341f938b-07f2-4886-9ab9-a7f5ed967841"
      },
      "source": [
        "plt.title('Loss')\n",
        "plt.plot(hist.epoch, hist.history['loss'])\n",
        "plt.plot(hist.epoch, hist.history['val_loss'])\n",
        "plt.legend(['Trainig loss', 'Validation loss'])\n",
        "plt.show();"
      ],
      "execution_count": 12,
      "outputs": [
        {
          "output_type": "display_data",
          "data": {
            "image/png": "[encoded data removed]",
            "text/plain": [
              "<Figure size 432x288 with 1 Axes>"
            ]
          },
          "metadata": {
            "tags": [],
            "needs_background": "light"
          }
        }
      ]
    },
    {
      "cell_type": "code",
      "metadata": {
        "id": "s7D63QmKhgOe"
      },
      "source": [
        "p_dev = np.argmax(model.predict(X_dev), axis=1)\n",
        "p_train = np.argmax(model.predict(X_train), axis=1)"
      ],
      "execution_count": 13,
      "outputs": []
    },
    {
      "cell_type": "code",
      "metadata": {
        "colab": {
          "base_uri": "https://localhost:8080/"
        },
        "id": "1LigJ_8Gjklg",
        "outputId": "e0a7a735-6df2-4150-8960-213ad375a20c"
      },
      "source": [
        "print(\"DEV F1 SCORE: \", f1_score(y_dev, p_dev, average='weighted'))\n",
        "print(\"TRAIN F1 SCORE: \", f1_score(y_train, p_train, average='weighted'))"
      ],
      "execution_count": 14,
      "outputs": [
        {
          "output_type": "stream",
          "text": [
            "DEV F1 SCORE:  0.9922032223934062\n",
            "TRAIN F1 SCORE:  0.9936841089508954\n"
          ],
          "name": "stdout"
        }
      ]
    },
    {
      "cell_type": "code",
      "metadata": {
        "colab": {
          "base_uri": "https://localhost:8080/",
          "height": 296
        },
        "id": "lc1P-nzrkbK5",
        "outputId": "c6b7ba83-eef5-4949-9dcb-978f302f90f8"
      },
      "source": [
        "print(\"DEV CONFUSION MATRIX:\")\n",
        "cm = confusion_matrix(y_dev, p_dev)\n",
        "disp = ConfusionMatrixDisplay(confusion_matrix=cm, display_labels=np.arange(0, 10))\n",
        "disp.plot(include_values=True, cmap=plt.cm.Blues, xticks_rotation='horizontal', values_format='');"
      ],
      "execution_count": 18,
      "outputs": [
        {
          "output_type": "stream",
          "text": [
            "DEV CONFUSION MATRIX:\n"
          ],
          "name": "stdout"
        },
        {
          "output_type": "display_data",
          "data": {
            "image/png": "[encoded data removed]",
            "text/plain": [
              "<Figure size 432x288 with 2 Axes>"
            ]
          },
          "metadata": {
            "tags": [],
            "needs_background": "light"
          }
        }
      ]
    },
    {
      "cell_type": "markdown",
      "metadata": {
        "id": "sG9fZJI6ks7K"
      },
      "source": [
        "**TODO:**   \n",
        "1. anomaly detection / outlier removal\n",
        "2. Retrain the net with better data\n",
        "3. test the network with external data\n",
        "4. if succesful save the net and load in the web app, else repeat the steps again"
      ]
    },
    {
      "cell_type": "code",
      "metadata": {
        "id": "UcSp5-FAmAmk"
      },
      "source": [
        "p_train_logits = model.predict(X_train)"
      ],
      "execution_count": 19,
      "outputs": []
    },
    {
      "cell_type": "code",
      "metadata": {
        "id": "EOWy6RVayx0b"
      },
      "source": [
        "def clean_dataset(X, y, y_pred_logits, clean_percent: float = 0.1):\n",
        "    N_TO_REMOVE = round(X.shape[0] * clean_percent)\n",
        "    max_accuracies_array = np.array(y_pred_logits.max(axis=1))\n",
        "    X_ = X.tolist()\n",
        "    y_ = y.tolist()\n",
        "    all_concat = list(zip(X_, y_, max_accuracies_array.tolist()))\n",
        "    all_concat.sort(key=lambda x: x[2])\n",
        "    X_new, y_new, _ = zip(*all_concat[N_TO_REMOVE:])\n",
        "    return np.array(X_new), np.array(y_new)"
      ],
      "execution_count": 20,
      "outputs": []
    },
    {
      "cell_type": "code",
      "metadata": {
        "colab": {
          "base_uri": "https://localhost:8080/"
        },
        "id": "DFpsu-GH136J",
        "outputId": "dbcc80dc-4fc8-4c12-d781-c04e020516b8"
      },
      "source": [
        "X_train_clean, y_train_clean = clean_dataset(X_train.numpy(), y_train, p_train_logits, 0.05)\n",
        "X_train_clean.shape, y_train_clean.shape"
      ],
      "execution_count": 21,
      "outputs": [
        {
          "output_type": "execute_result",
          "data": {
            "text/plain": [
              "((57000, 28, 28, 1), (57000,))"
            ]
          },
          "metadata": {
            "tags": []
          },
          "execution_count": 21
        }
      ]
    },
    {
      "cell_type": "code",
      "metadata": {
        "id": "CndmJaK3CX3f"
      },
      "source": [
        "X_train_clean_transformed = transformations(X_train_clean)"
      ],
      "execution_count": 22,
      "outputs": []
    },
    {
      "cell_type": "code",
      "metadata": {
        "colab": {
          "base_uri": "https://localhost:8080/",
          "height": 282
        },
        "id": "dlh7J99I7CMv",
        "outputId": "1ea49e2e-1c43-4c6c-803a-d8d84c4a2c0d"
      },
      "source": [
        "plot_img(X_train_clean[n], y_train_clean[n])"
      ],
      "execution_count": 23,
      "outputs": [
        {
          "output_type": "stream",
          "text": [
            "Number: 9\n"
          ],
          "name": "stdout"
        },
        {
          "output_type": "display_data",
          "data": {
            "image/png": "[encoded data removed]",
            "text/plain": [
              "<Figure size 432x288 with 1 Axes>"
            ]
          },
          "metadata": {
            "tags": [],
            "needs_background": "light"
          }
        }
      ]
    },
    {
      "cell_type": "code",
      "metadata": {
        "colab": {
          "base_uri": "https://localhost:8080/"
        },
        "id": "OKOPHok88pT3",
        "outputId": "629f161f-2bf7-46e3-b491-c039f1e071b3"
      },
      "source": [
        "model2 = keras.Sequential([\n",
        "    layers.Conv2D(32, (5, 5), activation='relu', input_shape=(28, 28, 1)),\n",
        "    layers.MaxPool2D(2, 2),\n",
        "    layers.Conv2D(16, (5, 5), activation='relu'),\n",
        "    layers.MaxPool2D(2, 2),\n",
        "\n",
        "    layers.Dropout(rate=0.3),\n",
        "\n",
        "    layers.Flatten(),\n",
        "\n",
        "    layers.Dense(units=256, activation='relu'),\n",
        "    layers.Dense(units=10, activation='softmax')\n",
        "])\n",
        "\n",
        "model2.compile(\n",
        "    optimizer='adam',\n",
        "    loss='sparse_categorical_crossentropy',\n",
        "    metrics=['accuracy']\n",
        ")\n",
        "\n",
        "model2.summary()"
      ],
      "execution_count": 24,
      "outputs": [
        {
          "output_type": "stream",
          "text": [
            "Model: \"sequential_3\"\n",
            "_________________________________________________________________\n",
            "Layer (type)                 Output Shape              Param #   \n",
            "=================================================================\n",
            "conv2d_2 (Conv2D)            (None, 24, 24, 32)        832       \n",
            "_________________________________________________________________\n",
            "max_pooling2d_2 (MaxPooling2 (None, 12, 12, 32)        0         \n",
            "_________________________________________________________________\n",
            "conv2d_3 (Conv2D)            (None, 8, 8, 16)          12816     \n",
            "_________________________________________________________________\n",
            "max_pooling2d_3 (MaxPooling2 (None, 4, 4, 16)          0         \n",
            "_________________________________________________________________\n",
            "dropout_1 (Dropout)          (None, 4, 4, 16)          0         \n",
            "_________________________________________________________________\n",
            "flatten_1 (Flatten)          (None, 256)               0         \n",
            "_________________________________________________________________\n",
            "dense_2 (Dense)              (None, 256)               65792     \n",
            "_________________________________________________________________\n",
            "dense_3 (Dense)              (None, 10)                2570      \n",
            "=================================================================\n",
            "Total params: 82,010\n",
            "Trainable params: 82,010\n",
            "Non-trainable params: 0\n",
            "_________________________________________________________________\n"
          ],
          "name": "stdout"
        }
      ]
    },
    {
      "cell_type": "code",
      "metadata": {
        "colab": {
          "base_uri": "https://localhost:8080/"
        },
        "id": "UT-DssPR7xho",
        "outputId": "e1cdc646-f16b-4f0b-9b46-2f15626200d6"
      },
      "source": [
        "hist2 = model2.fit(X_train_clean_transformed, y_train_clean, \n",
        "                   batch_size=32, epochs=15, validation_data=(X_dev_transformed, y_dev))"
      ],
      "execution_count": 25,
      "outputs": [
        {
          "output_type": "stream",
          "text": [
            "Epoch 1/15\n",
            "1782/1782 [==============================] - 7s 4ms/step - loss: 0.2841 - accuracy: 0.9084 - val_loss: 0.0900 - val_accuracy: 0.9722\n",
            "Epoch 2/15\n",
            "1782/1782 [==============================] - 7s 4ms/step - loss: 0.0833 - accuracy: 0.9745 - val_loss: 0.0654 - val_accuracy: 0.9796\n",
            "Epoch 3/15\n",
            "1782/1782 [==============================] - 6s 4ms/step - loss: 0.0598 - accuracy: 0.9809 - val_loss: 0.0613 - val_accuracy: 0.9806\n",
            "Epoch 4/15\n",
            "1782/1782 [==============================] - 6s 3ms/step - loss: 0.0484 - accuracy: 0.9847 - val_loss: 0.0601 - val_accuracy: 0.9817\n",
            "Epoch 5/15\n",
            "1782/1782 [==============================] - 6s 4ms/step - loss: 0.0417 - accuracy: 0.9866 - val_loss: 0.0535 - val_accuracy: 0.9842\n",
            "Epoch 6/15\n",
            "1782/1782 [==============================] - 6s 4ms/step - loss: 0.0335 - accuracy: 0.9893 - val_loss: 0.0508 - val_accuracy: 0.9846\n",
            "Epoch 7/15\n",
            "1782/1782 [==============================] - 6s 4ms/step - loss: 0.0309 - accuracy: 0.9898 - val_loss: 0.0520 - val_accuracy: 0.9852\n",
            "Epoch 8/15\n",
            "1782/1782 [==============================] - 6s 4ms/step - loss: 0.0307 - accuracy: 0.9907 - val_loss: 0.0460 - val_accuracy: 0.9866\n",
            "Epoch 9/15\n",
            "1782/1782 [==============================] - 6s 3ms/step - loss: 0.0263 - accuracy: 0.9921 - val_loss: 0.0586 - val_accuracy: 0.9834\n",
            "Epoch 10/15\n",
            "1782/1782 [==============================] - 6s 3ms/step - loss: 0.0256 - accuracy: 0.9922 - val_loss: 0.0438 - val_accuracy: 0.9870\n",
            "Epoch 11/15\n",
            "1782/1782 [==============================] - 6s 3ms/step - loss: 0.0236 - accuracy: 0.9927 - val_loss: 0.0423 - val_accuracy: 0.9883\n",
            "Epoch 12/15\n",
            "1782/1782 [==============================] - 6s 3ms/step - loss: 0.0208 - accuracy: 0.9935 - val_loss: 0.0425 - val_accuracy: 0.9871\n",
            "Epoch 13/15\n",
            "1782/1782 [==============================] - 6s 3ms/step - loss: 0.0211 - accuracy: 0.9934 - val_loss: 0.0459 - val_accuracy: 0.9866\n",
            "Epoch 14/15\n",
            "1782/1782 [==============================] - 6s 3ms/step - loss: 0.0178 - accuracy: 0.9943 - val_loss: 0.0531 - val_accuracy: 0.9861\n",
            "Epoch 15/15\n",
            "1782/1782 [==============================] - 6s 3ms/step - loss: 0.0212 - accuracy: 0.9941 - val_loss: 0.0402 - val_accuracy: 0.9874\n"
          ],
          "name": "stdout"
        }
      ]
    },
    {
      "cell_type": "code",
      "metadata": {
        "colab": {
          "base_uri": "https://localhost:8080/",
          "height": 281
        },
        "id": "0XMyi_5PCQXQ",
        "outputId": "b3916929-cfaa-43d4-b6b8-8fa5ca81214f"
      },
      "source": [
        "plt.title('Accuracy')\n",
        "plt.plot(hist2.epoch, hist2.history['accuracy'])\n",
        "plt.plot(hist2.epoch, hist2.history['val_accuracy'])\n",
        "plt.legend(['Training accuracy', 'Validation accuracy'])\n",
        "plt.show();"
      ],
      "execution_count": 26,
      "outputs": [
        {
          "output_type": "display_data",
          "data": {
            "image/png": "[encoded data removed]",
            "text/plain": [
              "<Figure size 432x288 with 1 Axes>"
            ]
          },
          "metadata": {
            "tags": [],
            "needs_background": "light"
          }
        }
      ]
    },
    {
      "cell_type": "code",
      "metadata": {
        "colab": {
          "base_uri": "https://localhost:8080/",
          "height": 281
        },
        "id": "RLlLYidfDmNb",
        "outputId": "1f883fb9-a46b-478e-ad5e-f40d63b080b9"
      },
      "source": [
        "plt.title('Loss')\n",
        "plt.plot(hist2.epoch, hist2.history['loss'])\n",
        "plt.plot(hist2.epoch, hist2.history['val_loss'])\n",
        "plt.legend(['Trainig loss', 'Validation loss'])\n",
        "plt.show();"
      ],
      "execution_count": 27,
      "outputs": [
        {
          "output_type": "display_data",
          "data": {
            "image/png": "[encoded data removed]",
            "text/plain": [
              "<Figure size 432x288 with 1 Axes>"
            ]
          },
          "metadata": {
            "tags": [],
            "needs_background": "light"
          }
        }
      ]
    },
    {
      "cell_type": "markdown",
      "metadata": {
        "id": "CASGQWd0DvFy"
      },
      "source": [
        "## Comparando os modelos"
      ]
    },
    {
      "cell_type": "code",
      "metadata": {
        "colab": {
          "base_uri": "https://localhost:8080/",
          "height": 281
        },
        "id": "yOgFbXccD4_D",
        "outputId": "4d00ff99-fc3f-4005-bc49-e2aa87013272"
      },
      "source": [
        "plt.title('Accuracy')\n",
        "plt.plot(hist.epoch, hist.history['val_accuracy'])\n",
        "plt.plot(hist2.epoch, hist2.history['val_accuracy'])\n",
        "plt.legend(['Non cleaned accuracy', 'Cleaned accuracy'])\n",
        "plt.show();"
      ],
      "execution_count": 28,
      "outputs": [
        {
          "output_type": "display_data",
          "data": {
            "image/png": "[encoded data removed]",
            "text/plain": [
              "<Figure size 432x288 with 1 Axes>"
            ]
          },
          "metadata": {
            "tags": [],
            "needs_background": "light"
          }
        }
      ]
    },
    {
      "cell_type": "code",
      "metadata": {
        "colab": {
          "base_uri": "https://localhost:8080/",
          "height": 281
        },
        "id": "TMR3ITIiEEz7",
        "outputId": "51ac3267-c814-4900-f9c8-238a7f8bc79d"
      },
      "source": [
        "plt.title('Loss')\n",
        "plt.plot(hist.epoch, hist.history['val_loss'])\n",
        "plt.plot(hist2.epoch, hist2.history['val_loss'])\n",
        "plt.legend(['Non Cleaned Loss', 'Cleaned Loss'])\n",
        "plt.show();"
      ],
      "execution_count": 29,
      "outputs": [
        {
          "output_type": "display_data",
          "data": {
            "image/png": "[encoded data removed]",
            "text/plain": [
              "<Figure size 432x288 with 1 Axes>"
            ]
          },
          "metadata": {
            "tags": [],
            "needs_background": "light"
          }
        }
      ]
    },
    {
      "cell_type": "code",
      "metadata": {
        "colab": {
          "base_uri": "https://localhost:8080/"
        },
        "id": "j3f7ga-KEm7B",
        "outputId": "7227d0bc-c1f1-481b-86e2-880c5c22d1d8"
      },
      "source": [
        "print(\"Non cleaned F1 Score:\", f1_score(y_dev, np.argmax(model.predict(X_dev), axis=1), average='weighted'))\n",
        "print(\"Cleaned F1 Score:\", f1_score(y_dev, np.argmax(model2.predict(X_dev), axis=1), average='weighted'))"
      ],
      "execution_count": 30,
      "outputs": [
        {
          "output_type": "stream",
          "text": [
            "Non cleaned F1 Score: 0.9922032223934062\n",
            "Cleaned F1 Score: 0.9897053579117248\n"
          ],
          "name": "stdout"
        }
      ]
    },
    {
      "cell_type": "markdown",
      "metadata": {
        "id": "1Ms1N24BFUrB"
      },
      "source": [
        "### Analysing  the results"
      ]
    },
    {
      "cell_type": "markdown",
      "metadata": {
        "id": "bUYe2Fr8FpuR"
      },
      "source": [
        "Apparently, the model trained with the cleaned data seems to be working worse than the first one, but if we pay attention to the fact that the dev data was not cleaned although it was used for validating the model trained with the cleaned data, so in real data, the results may be different."
      ]
    },
    {
      "cell_type": "code",
      "metadata": {
        "id": "L_4Yd3RqGScP"
      },
      "source": [
        "one = tf.constant([0, 0, 0, 0, 0, 0, 0, 0, 0, 0, 0, 0, 0, 0, 0, 0, 0, 0, 0, 0, 0, 0, 0, 0, 0, 0, 0, 0, 0, 0, 0, 0, 0, 0, 0, 0, 0, 0, 0, 0, 0, 0, 0, 0, 0, 0, 0, 0, 0, 0, 0, 0, 0, 0, 0, 0, 0, 0, 0, 0, 0, 0, 0, 0, 0, 0, 0, 0.16326458752155304, 1, 1, 0, 0, 0, 0, 0, 0, 0, 0, 0, 0, 0, 0, 0, 0, 0, 0, 0, 0, 0, 0, 0, 0, 0, 0, 0, 1, 1, 1, 0, 0, 0, 0, 0, 0, 0, 0, 0, 0, 0, 0, 0, 0, 0, 0, 0, 0, 0, 0, 0, 0, 0, 0, 1, 1, 1, 1, 0, 0, 0, 0, 0, 0, 0, 0, 0, 0, 0, 0, 0, 0, 0, 0, 0, 0, 0, 0, 0, 0, 0, 0, 1, 1, 1, 1, 0, 0, 0, 0, 0, 0, 0, 0, 0, 0, 0, 0, 0, 0, 0, 0, 0, 0, 0, 0, 0, 0, 0, 1, 1, 1, 1, 1, 0, 0, 0, 0, 0, 0, 0, 0, 0, 0, 0, 0, 0, 0, 0, 0, 0, 0, 0, 0, 0, 0, 1, 1, 1, 0.5714263319969177, 1, 1, 0, 0, 0, 0, 0, 0, 0, 0, 0, 0, 0, 0, 0, 0, 0, 0, 0, 0, 0, 0, 0, 0.14285658299922943, 1, 1, 0.4897943437099457, 1, 1, 1, 0, 0, 0, 0, 0, 0, 0, 0, 0, 0, 0, 0, 0, 0, 0, 0, 0, 0, 0, 0, 0.24489717185497284, 1, 1, 1, 0, 1, 1, 0.14286039769649506, 0, 0, 0, 0, 0, 0, 0, 0, 0, 0, 0, 0, 0, 0, 0, 0, 0, 0, 0, 0, 1, 1, 0.9996798634529114, 0, 0, 1, 1, 0, 0, 0, 0, 0, 0, 0, 0, 0, 0, 0, 0, 0, 0, 0, 0, 0, 0, 0, 0, 1, 1, 1, 0, 0, 0, 1, 1, 0, 0, 0, 0, 0, 0, 0, 0, 0, 0, 0, 0, 0, 0, 0, 0, 0, 0, 0, 0, 0.20408114790916443, 1, 0, 0, 0, 0, 1, 1, 0, 0, 0, 0, 0, 0, 0, 0, 0, 0, 0, 0, 0, 0, 0, 0, 0, 0, 0, 0, 0, 0, 0, 0, 0, 0, 1, 1, 0, 0, 0, 0, 0, 0, 0, 0, 0, 0, 0, 0, 0, 0, 0, 0, 0, 0, 0, 0, 0, 0, 0, 0, 0, 0, 1, 1, 0, 0, 0, 0, 0, 0, 0, 0, 0, 0, 0, 0, 0, 0, 0, 0, 0, 0, 0, 0, 0, 0, 0, 0, 0, 0, 1, 1, 0, 0, 0, 0, 0, 0, 0, 0, 0, 0, 0, 0, 0, 0, 0, 0, 0, 0, 0, 0, 0, 0, 0, 0, 0, 0.4285736083984375, 1, 1, 0, 0, 0, 0, 0, 0, 0, 0, 0, 0, 0, 0, 0, 0, 0, 0, 0, 0, 0, 0, 0, 0, 0, 0, 0, 1, 1, 0.9983993172645569, 0, 0, 0, 0, 0, 0, 0, 0, 0, 0, 0, 0, 0, 0, 0, 0, 0, 0, 0, 0, 0, 0, 0, 0, 0, 1, 1, 0.5918376445770264, 0, 0, 0, 0, 0, 0, 0, 0, 0, 0, 0, 0, 0, 0, 0, 0, 0, 0, 0, 0, 0, 0, 0, 0, 0, 1, 1, 0.28571316599845886, 0, 0, 0, 0, 0, 0, 0, 0, 0, 0, 0, 0, 0, 0, 0, 0, 0, 0, 0, 0, 0, 0, 0, 0, 0, 1, 1, 0, 0, 0, 0, 0, 0, 0, 0, 0, 0, 0, 0, 0, 0, 0, 0, 0, 0, 0, 0, 0, 0, 0, 0, 0, 0, 1, 1, 0, 0, 0, 0, 0, 0, 0, 0, 0, 0, 0, 0, 0, 0, 0, 0, 0, 0, 0, 0, 0, 0, 0, 0, 0, 0, 1, 1, 0, 0, 0, 0, 0, 0, 0, 0, 0, 0, 0, 0, 0, 0, 0, 0, 0, 0, 0, 0, 0, 0, 0, 0, 0, 0, 1, 1, 0, 0, 0, 0, 0, 0, 0, 0, 0, 0, 0, 0, 0, 0, 0, 0, 0, 0, 0, 0, 0, 0, 0, 0, 0, 0, 0.9990395307540894, 0.7543814182281494, 0, 0, 0, 0, 0, 0, 0, 0, 0, 0, 0, 0, 0, 0, 0, 0, 0, 0, 0, 0, 0, 0, 0, 0, 0, 0, 0, 0, 0, 0, 0, 0, 0, 0, 0, 0, 0, 0, 0, 0, 0, 0, 0, 0, 0, 0, 0, 0, 0, 0, 0, 0, 0, 0, 0, 0, 0, 0, 0, 0, 0, 0, 0, 0, 0, 0, 0, 0, 0, 0, 0, 0, 0, 0, 0, 0, 0, 0, 0, 0, 0, 0, 0, 0, 0, 0, 0, 0, 0, 0, 0, 0, 0, 0, 0, 0, 0, 0, 0, 0], shape=(1, 28, 28, 1))"
      ],
      "execution_count": 31,
      "outputs": []
    },
    {
      "cell_type": "code",
      "metadata": {
        "id": "B7BQCgz1HiCG",
        "colab": {
          "base_uri": "https://localhost:8080/",
          "height": 282
        },
        "outputId": "8d10381d-d8c0-4177-f65a-503752608ace"
      },
      "source": [
        "plot_img(one.numpy(), 1)"
      ],
      "execution_count": 32,
      "outputs": [
        {
          "output_type": "stream",
          "text": [
            "Number: 1\n"
          ],
          "name": "stdout"
        },
        {
          "output_type": "display_data",
          "data": {
            "image/png": "[encoded data removed]",
            "text/plain": [
              "<Figure size 432x288 with 1 Axes>"
            ]
          },
          "metadata": {
            "tags": [],
            "needs_background": "light"
          }
        }
      ]
    },
    {
      "cell_type": "code",
      "metadata": {
        "id": "-Pu4W-fpHo3b",
        "colab": {
          "base_uri": "https://localhost:8080/"
        },
        "outputId": "3862145a-cd6d-4581-a467-1d4688d7ba6a"
      },
      "source": [
        "p = model.predict(one)\n",
        "print(p.max())\n",
        "np.argmax(p)"
      ],
      "execution_count": 33,
      "outputs": [
        {
          "output_type": "stream",
          "text": [
            "0.9998355\n"
          ],
          "name": "stdout"
        },
        {
          "output_type": "execute_result",
          "data": {
            "text/plain": [
              "1"
            ]
          },
          "metadata": {
            "tags": []
          },
          "execution_count": 33
        }
      ]
    },
    {
      "cell_type": "code",
      "metadata": {
        "id": "VASffZglHwS-",
        "colab": {
          "base_uri": "https://localhost:8080/"
        },
        "outputId": "6a960be2-f918-4c05-8724-016fdf314d30"
      },
      "source": [
        "p = model2.predict(one)\n",
        "print(p.max())\n",
        "np.argmax(p)"
      ],
      "execution_count": 34,
      "outputs": [
        {
          "output_type": "stream",
          "text": [
            "0.9998982\n"
          ],
          "name": "stdout"
        },
        {
          "output_type": "execute_result",
          "data": {
            "text/plain": [
              "1"
            ]
          },
          "metadata": {
            "tags": []
          },
          "execution_count": 34
        }
      ]
    },
    {
      "cell_type": "code",
      "metadata": {
        "id": "5qAjnBziUCLY"
      },
      "source": [
        "model2.save('./DigitModel.h5')"
      ],
      "execution_count": 35,
      "outputs": []
    }
  ]
}