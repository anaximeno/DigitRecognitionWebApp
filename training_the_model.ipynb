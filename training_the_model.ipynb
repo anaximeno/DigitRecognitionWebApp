{
  "nbformat": 4,
  "nbformat_minor": 0,
  "metadata": {
    "interpreter": {
      "hash": "6fe8bbdae9576cd38d715f63505ce5b72703db22056767f2f792b7399a92525e"
    },
    "kernelspec": {
      "name": "python3",
      "display_name": "Python 3.9.5 64-bit ('tensorflow': conda)"
    },
    "language_info": {
      "codemirror_mode": {
        "name": "ipython",
        "version": 3
      },
      "file_extension": ".py",
      "mimetype": "text/x-python",
      "name": "python",
      "nbconvert_exporter": "python",
      "pygments_lexer": "ipython3",
      "version": "3.9.5"
    },
    "colab": {
      "name": "training-the-model.ipynb",
      "provenance": [],
      "collapsed_sections": []
    },
    "accelerator": "GPU"
  },
  "cells": [
    {
      "cell_type": "code",
      "metadata": {
        "colab": {
          "base_uri": "https://localhost:8080/"
        },
        "id": "nEyj65UMhgOL",
        "outputId": "56dfa0a3-5b6b-47f3-a094-d6ac4ce5aee2"
      },
      "source": [
        "%matplotlib inline\n",
        "from tensorflow.keras import layers\n",
        "import matplotlib.pyplot as plt\n",
        "from tensorflow import keras\n",
        "import tensorflow as tf\n",
        "import numpy as np\n",
        "from sklearn.metrics import f1_score, confusion_matrix, ConfusionMatrixDisplay\n",
        "import pandas as pd\n",
        "\n",
        "print(\"TF version: \", tf.__version__)\n",
        "print(\"Keras version: \", keras.__version__)"
      ],
      "execution_count": 1,
      "outputs": [
        {
          "output_type": "stream",
          "text": [
            "TF version:  2.6.0\n",
            "Keras version:  2.6.0\n"
          ],
          "name": "stdout"
        }
      ]
    },
    {
      "cell_type": "code",
      "metadata": {
        "id": "G0rgFUyEpxqX"
      },
      "source": [
        "gr = (1+5**0.5) / 2\n",
        "dist = gr**0.5/gr**2 * gr/gr**6"
      ],
      "execution_count": 2,
      "outputs": []
    },
    {
      "cell_type": "code",
      "metadata": {
        "id": "u0R1d0m5hgOX",
        "outputId": "5c183e83-54ee-401e-f31e-654ccf0fe544",
        "colab": {
          "base_uri": "https://localhost:8080/"
        }
      },
      "source": [
        "mnist = keras.datasets.mnist\n",
        "(X_train, y_train), (X_dev, y_dev) = mnist.load_data()\n",
        "\n",
        "rescale = keras.layers.Rescaling(1/255.)\n",
        "\n",
        "X_train = tf.reshape(rescale(X_train), shape=(-1, 28, 28, 1))\n",
        "X_dev = tf.reshape(rescale(X_dev), shape=(-1, 28, 28, 1))\n",
        "\n",
        "transformations = keras.Sequential([\n",
        "    layers.RandomRotation(dist),\n",
        "    layers.RandomTranslation(dist, dist),\n",
        "    layers.RandomZoom((-dist*3, dist*3)),\n",
        "])\n",
        "\n",
        "X_train_transformed = transformations(X_train)\n",
        "X_dev_transformed = transformations(X_dev)\n",
        "\n",
        "print(X_train.shape, X_dev.shape)"
      ],
      "execution_count": 4,
      "outputs": [
        {
          "output_type": "stream",
          "text": [
            "(60000, 28, 28, 1) (10000, 28, 28, 1)\n"
          ],
          "name": "stdout"
        }
      ]
    },
    {
      "cell_type": "code",
      "metadata": {
        "id": "j1S4FTKL6JZi"
      },
      "source": [
        "def plot_img(img: np.array, label: int):\n",
        "    print('Number:', label)\n",
        "    plt.imshow(img.squeeze(), cmap='Greys_r')"
      ],
      "execution_count": 5,
      "outputs": []
    },
    {
      "cell_type": "code",
      "metadata": {
        "colab": {
          "base_uri": "https://localhost:8080/",
          "height": 282
        },
        "id": "ICTnuEschgOY",
        "outputId": "e3c78ff0-012e-4abe-82fb-ca430766710a"
      },
      "source": [
        "n = np.random.randint(X_train_transformed.shape[0])\n",
        "plot_img(X_train_transformed[n].numpy(), y_train[n])"
      ],
      "execution_count": 11,
      "outputs": [
        {
          "output_type": "stream",
          "text": [
            "Number: 9\n"
          ],
          "name": "stdout"
        },
        {
          "output_type": "display_data",
          "data": {
            "image/png": "[encoded data removed]",
            "text/plain": [
              "<Figure size 432x288 with 1 Axes>"
            ]
          },
          "metadata": {
            "needs_background": "light"
          }
        }
      ]
    },
    {
      "cell_type": "code",
      "metadata": {
        "colab": {
          "base_uri": "https://localhost:8080/"
        },
        "id": "Xwtisvn8hgOa",
        "outputId": "9c81e526-88f9-44ce-8525-f9834c3aee30"
      },
      "source": [
        "model = keras.Sequential([\n",
        "    layers.Conv2D(32, (5, 5), activation='relu', input_shape=(28, 28, 1)),\n",
        "    layers.MaxPool2D(2, 2),\n",
        "    layers.Conv2D(16, (5, 5), activation='relu'),\n",
        "    layers.MaxPool2D(2, 2),\n",
        "\n",
        "    layers.Dropout(rate=0.3),\n",
        "\n",
        "    layers.Flatten(),\n",
        "\n",
        "    layers.Dense(units=256, activation='relu'),\n",
        "    layers.Dropout(rate=0.1),\n",
        "    layers.Dense(units=10, activation='softmax')\n",
        "])\n",
        "\n",
        "model.compile(\n",
        "    optimizer=tf.optimizers.Adam(learning_rate=0.0003),\n",
        "    loss='sparse_categorical_crossentropy',\n",
        "    metrics=['accuracy']\n",
        ")\n",
        "\n",
        "model.summary()"
      ],
      "execution_count": 12,
      "outputs": [
        {
          "output_type": "stream",
          "text": [
            "Model: \"sequential_1\"\n",
            "_________________________________________________________________\n",
            "Layer (type)                 Output Shape              Param #   \n",
            "=================================================================\n",
            "conv2d (Conv2D)              (None, 24, 24, 32)        832       \n",
            "_________________________________________________________________\n",
            "max_pooling2d (MaxPooling2D) (None, 12, 12, 32)        0         \n",
            "_________________________________________________________________\n",
            "conv2d_1 (Conv2D)            (None, 8, 8, 16)          12816     \n",
            "_________________________________________________________________\n",
            "max_pooling2d_1 (MaxPooling2 (None, 4, 4, 16)          0         \n",
            "_________________________________________________________________\n",
            "dropout (Dropout)            (None, 4, 4, 16)          0         \n",
            "_________________________________________________________________\n",
            "flatten (Flatten)            (None, 256)               0         \n",
            "_________________________________________________________________\n",
            "dense (Dense)                (None, 256)               65792     \n",
            "_________________________________________________________________\n",
            "dropout_1 (Dropout)          (None, 256)               0         \n",
            "_________________________________________________________________\n",
            "dense_1 (Dense)              (None, 10)                2570      \n",
            "=================================================================\n",
            "Total params: 82,010\n",
            "Trainable params: 82,010\n",
            "Non-trainable params: 0\n",
            "_________________________________________________________________\n"
          ],
          "name": "stdout"
        }
      ]
    },
    {
      "cell_type": "code",
      "metadata": {
        "colab": {
          "base_uri": "https://localhost:8080/"
        },
        "id": "OQdRpAf3hgOd",
        "outputId": "04f8fc7b-1a90-4e59-c296-0d32302dcae7"
      },
      "source": [
        "hist = model.fit(X_train_transformed, y_train,\n",
        "    batch_size=32, epochs=15,\n",
        "    validation_data=(X_dev_transformed, y_dev)\n",
        ")"
      ],
      "execution_count": 13,
      "outputs": [
        {
          "output_type": "stream",
          "text": [
            "Epoch 1/15\n",
            "1875/1875 [==============================] - 39s 5ms/step - loss: 0.4561 - accuracy: 0.8554 - val_loss: 0.1302 - val_accuracy: 0.9601\n",
            "Epoch 2/15\n",
            "1875/1875 [==============================] - 9s 5ms/step - loss: 0.1687 - accuracy: 0.9478 - val_loss: 0.0863 - val_accuracy: 0.9724\n",
            "Epoch 3/15\n",
            "1875/1875 [==============================] - 10s 5ms/step - loss: 0.1271 - accuracy: 0.9610 - val_loss: 0.0644 - val_accuracy: 0.9790\n",
            "Epoch 4/15\n",
            "1875/1875 [==============================] - 10s 5ms/step - loss: 0.1028 - accuracy: 0.9680 - val_loss: 0.0539 - val_accuracy: 0.9839\n",
            "Epoch 5/15\n",
            "1875/1875 [==============================] - 10s 5ms/step - loss: 0.0900 - accuracy: 0.9717 - val_loss: 0.0464 - val_accuracy: 0.9855\n",
            "Epoch 6/15\n",
            "1875/1875 [==============================] - 9s 5ms/step - loss: 0.0786 - accuracy: 0.9755 - val_loss: 0.0435 - val_accuracy: 0.9865\n",
            "Epoch 7/15\n",
            "1875/1875 [==============================] - 9s 5ms/step - loss: 0.0720 - accuracy: 0.9773 - val_loss: 0.0390 - val_accuracy: 0.9869\n",
            "Epoch 8/15\n",
            "1875/1875 [==============================] - 10s 5ms/step - loss: 0.0657 - accuracy: 0.9783 - val_loss: 0.0377 - val_accuracy: 0.9882\n",
            "Epoch 9/15\n",
            "1875/1875 [==============================] - 9s 5ms/step - loss: 0.0605 - accuracy: 0.9809 - val_loss: 0.0340 - val_accuracy: 0.9880\n",
            "Epoch 10/15\n",
            "1875/1875 [==============================] - 10s 5ms/step - loss: 0.0581 - accuracy: 0.9817 - val_loss: 0.0351 - val_accuracy: 0.9882\n",
            "Epoch 11/15\n",
            "1875/1875 [==============================] - 9s 5ms/step - loss: 0.0545 - accuracy: 0.9833 - val_loss: 0.0337 - val_accuracy: 0.9882\n",
            "Epoch 12/15\n",
            "1875/1875 [==============================] - 9s 5ms/step - loss: 0.0519 - accuracy: 0.9829 - val_loss: 0.0305 - val_accuracy: 0.9899\n",
            "Epoch 13/15\n",
            "1875/1875 [==============================] - 10s 5ms/step - loss: 0.0485 - accuracy: 0.9847 - val_loss: 0.0305 - val_accuracy: 0.9904\n",
            "Epoch 14/15\n",
            "1875/1875 [==============================] - 10s 5ms/step - loss: 0.0457 - accuracy: 0.9853 - val_loss: 0.0271 - val_accuracy: 0.9912\n",
            "Epoch 15/15\n",
            "1875/1875 [==============================] - 10s 5ms/step - loss: 0.0425 - accuracy: 0.9863 - val_loss: 0.0314 - val_accuracy: 0.9884\n"
          ],
          "name": "stdout"
        }
      ]
    },
    {
      "cell_type": "code",
      "metadata": {
        "colab": {
          "base_uri": "https://localhost:8080/",
          "height": 281
        },
        "id": "P9RH4p_-8tDn",
        "outputId": "c5005496-ebc9-46b4-fd03-0c8a9a5b852c"
      },
      "source": [
        "plt.title('Accuracy')\n",
        "plt.plot(hist.epoch, hist.history['accuracy'])\n",
        "plt.plot(hist.epoch, hist.history['val_accuracy'])\n",
        "plt.legend(['Training accuracy', 'Validation accuracy'])\n",
        "plt.show();"
      ],
      "execution_count": 14,
      "outputs": [
        {
          "output_type": "display_data",
          "data": {
            "image/png": "[encoded data removed]",
            "text/plain": [
              "<Figure size 432x288 with 1 Axes>"
            ]
          },
          "metadata": {
            "needs_background": "light"
          }
        }
      ]
    },
    {
      "cell_type": "code",
      "metadata": {
        "colab": {
          "base_uri": "https://localhost:8080/",
          "height": 281
        },
        "id": "_KR_oHkfArwB",
        "outputId": "4450015f-4741-4628-efda-f82931f30752"
      },
      "source": [
        "plt.title('Loss')\n",
        "plt.plot(hist.epoch, hist.history['loss'])\n",
        "plt.plot(hist.epoch, hist.history['val_loss'])\n",
        "plt.legend(['Trainig loss', 'Validation loss'])\n",
        "plt.show();"
      ],
      "execution_count": 15,
      "outputs": [
        {
          "output_type": "display_data",
          "data": {
            "image/png": "[encoded data removed]",
            "text/plain": [
              "<Figure size 432x288 with 1 Axes>"
            ]
          },
          "metadata": {
            "needs_background": "light"
          }
        }
      ]
    },
    {
      "cell_type": "code",
      "metadata": {
        "id": "s7D63QmKhgOe"
      },
      "source": [
        "p_dev = np.argmax(model.predict(X_dev), axis=1)\n",
        "p_train = np.argmax(model.predict(X_train), axis=1)"
      ],
      "execution_count": 16,
      "outputs": []
    },
    {
      "cell_type": "code",
      "metadata": {
        "colab": {
          "base_uri": "https://localhost:8080/"
        },
        "id": "1LigJ_8Gjklg",
        "outputId": "12ae2627-454e-4ddc-ebec-6e3174cb4760"
      },
      "source": [
        "print(\"DEV F1 SCORE: \", f1_score(y_dev, p_dev, average='weighted'))\n",
        "print(\"TRAIN F1 SCORE: \", f1_score(y_train, p_train, average='weighted'))"
      ],
      "execution_count": 17,
      "outputs": [
        {
          "output_type": "stream",
          "text": [
            "DEV F1 SCORE:  0.9940008910492881\n",
            "TRAIN F1 SCORE:  0.9936183829137606\n"
          ],
          "name": "stdout"
        }
      ]
    },
    {
      "cell_type": "code",
      "metadata": {
        "colab": {
          "base_uri": "https://localhost:8080/",
          "height": 296
        },
        "id": "lc1P-nzrkbK5",
        "outputId": "bd1d7b16-0a6b-455f-db64-ec3219b7077b"
      },
      "source": [
        "print(\"DEV CONFUSION MATRIX:\")\n",
        "cm = confusion_matrix(y_dev, p_dev)\n",
        "disp = ConfusionMatrixDisplay(confusion_matrix=cm, display_labels=np.arange(0, 10))\n",
        "disp.plot(include_values=True, cmap=plt.cm.Blues, xticks_rotation='horizontal', values_format='');"
      ],
      "execution_count": 18,
      "outputs": [
        {
          "output_type": "stream",
          "text": [
            "DEV CONFUSION MATRIX:\n"
          ],
          "name": "stdout"
        },
        {
          "output_type": "display_data",
          "data": {
            "image/png": "[encoded data removed]",
            "text/plain": [
              "<Figure size 432x288 with 2 Axes>"
            ]
          },
          "metadata": {
            "needs_background": "light"
          }
        }
      ]
    },
    {
      "cell_type": "markdown",
      "metadata": {
        "id": "sG9fZJI6ks7K"
      },
      "source": [
        "**TODO:**   \n",
        "1. anomaly detection / outlier removal\n",
        "2. Retrain the net with better data\n",
        "3. test the network with external data\n",
        "4. if succesful save the net and load in the web app, else repeat the steps again"
      ]
    },
    {
      "cell_type": "code",
      "metadata": {
        "id": "UcSp5-FAmAmk"
      },
      "source": [
        "p_train_logits = model.predict(X_train)"
      ],
      "execution_count": 19,
      "outputs": []
    },
    {
      "cell_type": "code",
      "metadata": {
        "id": "EOWy6RVayx0b"
      },
      "source": [
        "def clean_dataset(X, y, y_pred_logits, clean_percent: float = 0.01):\n",
        "    N_TO_REMOVE = round(X.shape[0] * clean_percent)\n",
        "    max_accuracies_array = np.array(y_pred_logits.max(axis=1))\n",
        "    X_ = X.tolist()\n",
        "    y_ = y.tolist()\n",
        "    all_concat = list(zip(X_, y_, max_accuracies_array.tolist()))\n",
        "    all_concat.sort(key=lambda x: x[2])\n",
        "    X_new, y_new, _ = zip(*all_concat[N_TO_REMOVE:])\n",
        "    return np.array(X_new), np.array(y_new)"
      ],
      "execution_count": 20,
      "outputs": []
    },
    {
      "cell_type": "code",
      "metadata": {
        "colab": {
          "base_uri": "https://localhost:8080/"
        },
        "id": "DFpsu-GH136J",
        "outputId": "30f6b9af-c39b-4118-9025-7fda6e3b1270"
      },
      "source": [
        "X_train_clean, y_train_clean = clean_dataset(X_train_transformed.numpy(), y_train, p_train_logits, 0.001)\n",
        "X_train_clean.shape, y_train_clean.shape"
      ],
      "execution_count": 22,
      "outputs": [
        {
          "output_type": "execute_result",
          "data": {
            "text/plain": [
              "((59940, 28, 28, 1), (59940,))"
            ]
          },
          "metadata": {},
          "execution_count": 22
        }
      ]
    },
    {
      "cell_type": "code",
      "metadata": {
        "colab": {
          "base_uri": "https://localhost:8080/",
          "height": 282
        },
        "id": "dlh7J99I7CMv",
        "outputId": "8640b749-c74f-44e6-a00c-93cdc4af2a41"
      },
      "source": [
        "plot_img(X_train_clean[n], y_train_clean[n])"
      ],
      "execution_count": 23,
      "outputs": [
        {
          "output_type": "stream",
          "text": [
            "Number: 6\n"
          ],
          "name": "stdout"
        },
        {
          "output_type": "display_data",
          "data": {
            "image/png": "[encoded data removed]",
            "text/plain": [
              "<Figure size 432x288 with 1 Axes>"
            ]
          },
          "metadata": {
            "needs_background": "light"
          }
        }
      ]
    },
    {
      "cell_type": "code",
      "metadata": {
        "colab": {
          "base_uri": "https://localhost:8080/"
        },
        "id": "OKOPHok88pT3",
        "outputId": "20febdba-d8b1-4fde-c2fe-26936145a9f5"
      },
      "source": [
        "model2 = keras.Sequential([\n",
        "    layers.Conv2D(32, (5, 5), activation='relu', input_shape=(28, 28, 1)),\n",
        "    layers.MaxPool2D(2, 2),\n",
        "    layers.Conv2D(16, (5, 5), activation='relu'),\n",
        "    layers.MaxPool2D(2, 2),\n",
        "\n",
        "    layers.Dropout(rate=0.3),\n",
        "\n",
        "    layers.Flatten(),\n",
        "\n",
        "    layers.Dense(units=256, activation='relu'),\n",
        "    layers.Dropout(rate=0.08),\n",
        "    layers.Dense(units=10, activation='softmax')\n",
        "])\n",
        "\n",
        "model2.compile(\n",
        "    optimizer=tf.optimizers.Adam(0.0003),\n",
        "    loss='sparse_categorical_crossentropy',\n",
        "    metrics=['accuracy']\n",
        ")\n",
        "\n",
        "model2.summary()"
      ],
      "execution_count": 37,
      "outputs": [
        {
          "output_type": "stream",
          "text": [
            "Model: \"sequential_4\"\n",
            "_________________________________________________________________\n",
            "Layer (type)                 Output Shape              Param #   \n",
            "=================================================================\n",
            "conv2d_6 (Conv2D)            (None, 24, 24, 32)        832       \n",
            "_________________________________________________________________\n",
            "max_pooling2d_6 (MaxPooling2 (None, 12, 12, 32)        0         \n",
            "_________________________________________________________________\n",
            "conv2d_7 (Conv2D)            (None, 8, 8, 16)          12816     \n",
            "_________________________________________________________________\n",
            "max_pooling2d_7 (MaxPooling2 (None, 4, 4, 16)          0         \n",
            "_________________________________________________________________\n",
            "dropout_6 (Dropout)          (None, 4, 4, 16)          0         \n",
            "_________________________________________________________________\n",
            "flatten_3 (Flatten)          (None, 256)               0         \n",
            "_________________________________________________________________\n",
            "dense_6 (Dense)              (None, 256)               65792     \n",
            "_________________________________________________________________\n",
            "dropout_7 (Dropout)          (None, 256)               0         \n",
            "_________________________________________________________________\n",
            "dense_7 (Dense)              (None, 10)                2570      \n",
            "=================================================================\n",
            "Total params: 82,010\n",
            "Trainable params: 82,010\n",
            "Non-trainable params: 0\n",
            "_________________________________________________________________\n"
          ],
          "name": "stdout"
        }
      ]
    },
    {
      "cell_type": "code",
      "metadata": {
        "colab": {
          "base_uri": "https://localhost:8080/"
        },
        "id": "UT-DssPR7xho",
        "outputId": "fa0294f0-fdc3-4810-9582-615b3f4ebc55"
      },
      "source": [
        "hist2 = model2.fit(X_train_clean, y_train_clean, \n",
        "                   batch_size=32, epochs=15, validation_data=(X_dev_transformed, y_dev))"
      ],
      "execution_count": 38,
      "outputs": [
        {
          "output_type": "stream",
          "text": [
            "Epoch 1/15\n",
            "1874/1874 [==============================] - 11s 5ms/step - loss: 0.4648 - accuracy: 0.8524 - val_loss: 0.1535 - val_accuracy: 0.9531\n",
            "Epoch 2/15\n",
            "1874/1874 [==============================] - 10s 5ms/step - loss: 0.1876 - accuracy: 0.9407 - val_loss: 0.0908 - val_accuracy: 0.9720\n",
            "Epoch 3/15\n",
            "1874/1874 [==============================] - 10s 5ms/step - loss: 0.1389 - accuracy: 0.9566 - val_loss: 0.0677 - val_accuracy: 0.9783\n",
            "Epoch 4/15\n",
            "1874/1874 [==============================] - 10s 5ms/step - loss: 0.1153 - accuracy: 0.9635 - val_loss: 0.0622 - val_accuracy: 0.9814\n",
            "Epoch 5/15\n",
            "1874/1874 [==============================] - 10s 5ms/step - loss: 0.0958 - accuracy: 0.9699 - val_loss: 0.0559 - val_accuracy: 0.9822\n",
            "Epoch 6/15\n",
            "1874/1874 [==============================] - 10s 5ms/step - loss: 0.0856 - accuracy: 0.9729 - val_loss: 0.0475 - val_accuracy: 0.9840\n",
            "Epoch 7/15\n",
            "1874/1874 [==============================] - 10s 5ms/step - loss: 0.0787 - accuracy: 0.9750 - val_loss: 0.0446 - val_accuracy: 0.9857\n",
            "Epoch 8/15\n",
            "1874/1874 [==============================] - 10s 5ms/step - loss: 0.0692 - accuracy: 0.9779 - val_loss: 0.0425 - val_accuracy: 0.9860\n",
            "Epoch 9/15\n",
            "1874/1874 [==============================] - 10s 5ms/step - loss: 0.0650 - accuracy: 0.9787 - val_loss: 0.0376 - val_accuracy: 0.9869\n",
            "Epoch 10/15\n",
            "1874/1874 [==============================] - 10s 5ms/step - loss: 0.0595 - accuracy: 0.9808 - val_loss: 0.0364 - val_accuracy: 0.9881\n",
            "Epoch 11/15\n",
            "1874/1874 [==============================] - 10s 5ms/step - loss: 0.0558 - accuracy: 0.9817 - val_loss: 0.0335 - val_accuracy: 0.9890\n",
            "Epoch 12/15\n",
            "1874/1874 [==============================] - 10s 5ms/step - loss: 0.0510 - accuracy: 0.9834 - val_loss: 0.0340 - val_accuracy: 0.9885\n",
            "Epoch 13/15\n",
            "1874/1874 [==============================] - 10s 5ms/step - loss: 0.0511 - accuracy: 0.9842 - val_loss: 0.0334 - val_accuracy: 0.9889\n",
            "Epoch 14/15\n",
            "1874/1874 [==============================] - 10s 5ms/step - loss: 0.0488 - accuracy: 0.9843 - val_loss: 0.0321 - val_accuracy: 0.9894\n",
            "Epoch 15/15\n",
            "1874/1874 [==============================] - 10s 5ms/step - loss: 0.0434 - accuracy: 0.9856 - val_loss: 0.0282 - val_accuracy: 0.9900\n"
          ],
          "name": "stdout"
        }
      ]
    },
    {
      "cell_type": "code",
      "metadata": {
        "colab": {
          "base_uri": "https://localhost:8080/",
          "height": 281
        },
        "id": "0XMyi_5PCQXQ",
        "outputId": "16864dc1-b808-4525-fae2-52105417d080"
      },
      "source": [
        "plt.title('Accuracy')\n",
        "plt.plot(hist2.epoch, hist2.history['accuracy'])\n",
        "plt.plot(hist2.epoch, hist2.history['val_accuracy'])\n",
        "plt.legend(['Training accuracy', 'Validation accuracy'])\n",
        "plt.show();"
      ],
      "execution_count": 39,
      "outputs": [
        {
          "output_type": "display_data",
          "data": {
            "image/png": "[encoded data removed]",
            "text/plain": [
              "<Figure size 432x288 with 1 Axes>"
            ]
          },
          "metadata": {
            "needs_background": "light"
          }
        }
      ]
    },
    {
      "cell_type": "code",
      "metadata": {
        "colab": {
          "base_uri": "https://localhost:8080/",
          "height": 281
        },
        "id": "RLlLYidfDmNb",
        "outputId": "5bf6452e-ec28-4d4d-a628-2a3115b06b71"
      },
      "source": [
        "plt.title('Loss')\n",
        "plt.plot(hist2.epoch, hist2.history['loss'])\n",
        "plt.plot(hist2.epoch, hist2.history['val_loss'])\n",
        "plt.legend(['Trainig loss', 'Validation loss'])\n",
        "plt.show();"
      ],
      "execution_count": 40,
      "outputs": [
        {
          "output_type": "display_data",
          "data": {
            "image/png": "[encoded data removed]",
            "text/plain": [
              "<Figure size 432x288 with 1 Axes>"
            ]
          },
          "metadata": {
            "needs_background": "light"
          }
        }
      ]
    },
    {
      "cell_type": "markdown",
      "metadata": {
        "id": "CASGQWd0DvFy"
      },
      "source": [
        "## Analysing the models"
      ]
    },
    {
      "cell_type": "code",
      "metadata": {
        "colab": {
          "base_uri": "https://localhost:8080/",
          "height": 281
        },
        "id": "yOgFbXccD4_D",
        "outputId": "e90c7f97-6754-4b63-9326-216a2fd9842d"
      },
      "source": [
        "plt.title('Accuracy')\n",
        "plt.plot(hist.epoch, hist.history['val_accuracy'])\n",
        "plt.plot(hist2.epoch, hist2.history['val_accuracy'])\n",
        "plt.legend(['Non cleaned accuracy', 'Cleaned accuracy'])\n",
        "plt.show();"
      ],
      "execution_count": 41,
      "outputs": [
        {
          "output_type": "display_data",
          "data": {
            "image/png": "[encoded data removed]",
            "text/plain": [
              "<Figure size 432x288 with 1 Axes>"
            ]
          },
          "metadata": {
            "needs_background": "light"
          }
        }
      ]
    },
    {
      "cell_type": "code",
      "metadata": {
        "colab": {
          "base_uri": "https://localhost:8080/",
          "height": 281
        },
        "id": "TMR3ITIiEEz7",
        "outputId": "60d69c05-fb35-43cf-a348-19974751942c"
      },
      "source": [
        "plt.title('Loss')\n",
        "plt.plot(hist.epoch, hist.history['val_loss'])\n",
        "plt.plot(hist2.epoch, hist2.history['val_loss'])\n",
        "plt.legend(['Non Cleaned Loss', 'Cleaned Loss'])\n",
        "plt.show();"
      ],
      "execution_count": 42,
      "outputs": [
        {
          "output_type": "display_data",
          "data": {
            "image/png": "[encoded data removed]",
            "text/plain": [
              "<Figure size 432x288 with 1 Axes>"
            ]
          },
          "metadata": {
            "needs_background": "light"
          }
        }
      ]
    },
    {
      "cell_type": "code",
      "metadata": {
        "colab": {
          "base_uri": "https://localhost:8080/"
        },
        "id": "j3f7ga-KEm7B",
        "outputId": "d69f9ae0-9822-4f78-f1b5-f777ceac414a"
      },
      "source": [
        "print(\"Non cleaned F1 Score:\", f1_score(y_dev, np.argmax(model.predict(X_dev), axis=1), average='weighted'))\n",
        "print(\"Cleaned F1 Score:\", f1_score(y_dev, np.argmax(model2.predict(X_dev), axis=1), average='weighted'))"
      ],
      "execution_count": 43,
      "outputs": [
        {
          "output_type": "stream",
          "text": [
            "Non cleaned F1 Score: 0.9940008910492881\n",
            "Cleaned F1 Score: 0.9947997981569144\n"
          ],
          "name": "stdout"
        }
      ]
    },
    {
      "cell_type": "code",
      "metadata": {
        "id": "L_4Yd3RqGScP"
      },
      "source": [
        "one = tf.constant([0, 0, 0, 0, 0, 0, 0, 0, 0, 0, 0, 0, 0, 0, 0, 0, 0, 0, 0, 0, 0, 0, 0, 0, 0, 0, 0, 0, 0, 0, 0, 0, 0, 0, 0, 0, 0, 0, 0, 0, 0, 0, 0, 0, 0, 0, 0, 0, 0, 0, 0, 0, 0, 0, 0, 0, 0, 0, 0, 0, 0, 0, 0, 0, 0, 0, 0, 0.16326458752155304, 1, 1, 0, 0, 0, 0, 0, 0, 0, 0, 0, 0, 0, 0, 0, 0, 0, 0, 0, 0, 0, 0, 0, 0, 0, 0, 0, 1, 1, 1, 0, 0, 0, 0, 0, 0, 0, 0, 0, 0, 0, 0, 0, 0, 0, 0, 0, 0, 0, 0, 0, 0, 0, 0, 1, 1, 1, 1, 0, 0, 0, 0, 0, 0, 0, 0, 0, 0, 0, 0, 0, 0, 0, 0, 0, 0, 0, 0, 0, 0, 0, 0, 1, 1, 1, 1, 0, 0, 0, 0, 0, 0, 0, 0, 0, 0, 0, 0, 0, 0, 0, 0, 0, 0, 0, 0, 0, 0, 0, 1, 1, 1, 1, 1, 0, 0, 0, 0, 0, 0, 0, 0, 0, 0, 0, 0, 0, 0, 0, 0, 0, 0, 0, 0, 0, 0, 1, 1, 1, 0.5714263319969177, 1, 1, 0, 0, 0, 0, 0, 0, 0, 0, 0, 0, 0, 0, 0, 0, 0, 0, 0, 0, 0, 0, 0, 0.14285658299922943, 1, 1, 0.4897943437099457, 1, 1, 1, 0, 0, 0, 0, 0, 0, 0, 0, 0, 0, 0, 0, 0, 0, 0, 0, 0, 0, 0, 0, 0.24489717185497284, 1, 1, 1, 0, 1, 1, 0.14286039769649506, 0, 0, 0, 0, 0, 0, 0, 0, 0, 0, 0, 0, 0, 0, 0, 0, 0, 0, 0, 0, 1, 1, 0.9996798634529114, 0, 0, 1, 1, 0, 0, 0, 0, 0, 0, 0, 0, 0, 0, 0, 0, 0, 0, 0, 0, 0, 0, 0, 0, 1, 1, 1, 0, 0, 0, 1, 1, 0, 0, 0, 0, 0, 0, 0, 0, 0, 0, 0, 0, 0, 0, 0, 0, 0, 0, 0, 0, 0.20408114790916443, 1, 0, 0, 0, 0, 1, 1, 0, 0, 0, 0, 0, 0, 0, 0, 0, 0, 0, 0, 0, 0, 0, 0, 0, 0, 0, 0, 0, 0, 0, 0, 0, 0, 1, 1, 0, 0, 0, 0, 0, 0, 0, 0, 0, 0, 0, 0, 0, 0, 0, 0, 0, 0, 0, 0, 0, 0, 0, 0, 0, 0, 1, 1, 0, 0, 0, 0, 0, 0, 0, 0, 0, 0, 0, 0, 0, 0, 0, 0, 0, 0, 0, 0, 0, 0, 0, 0, 0, 0, 1, 1, 0, 0, 0, 0, 0, 0, 0, 0, 0, 0, 0, 0, 0, 0, 0, 0, 0, 0, 0, 0, 0, 0, 0, 0, 0, 0.4285736083984375, 1, 1, 0, 0, 0, 0, 0, 0, 0, 0, 0, 0, 0, 0, 0, 0, 0, 0, 0, 0, 0, 0, 0, 0, 0, 0, 0, 1, 1, 0.9983993172645569, 0, 0, 0, 0, 0, 0, 0, 0, 0, 0, 0, 0, 0, 0, 0, 0, 0, 0, 0, 0, 0, 0, 0, 0, 0, 1, 1, 0.5918376445770264, 0, 0, 0, 0, 0, 0, 0, 0, 0, 0, 0, 0, 0, 0, 0, 0, 0, 0, 0, 0, 0, 0, 0, 0, 0, 1, 1, 0.28571316599845886, 0, 0, 0, 0, 0, 0, 0, 0, 0, 0, 0, 0, 0, 0, 0, 0, 0, 0, 0, 0, 0, 0, 0, 0, 0, 1, 1, 0, 0, 0, 0, 0, 0, 0, 0, 0, 0, 0, 0, 0, 0, 0, 0, 0, 0, 0, 0, 0, 0, 0, 0, 0, 0, 1, 1, 0, 0, 0, 0, 0, 0, 0, 0, 0, 0, 0, 0, 0, 0, 0, 0, 0, 0, 0, 0, 0, 0, 0, 0, 0, 0, 1, 1, 0, 0, 0, 0, 0, 0, 0, 0, 0, 0, 0, 0, 0, 0, 0, 0, 0, 0, 0, 0, 0, 0, 0, 0, 0, 0, 1, 1, 0, 0, 0, 0, 0, 0, 0, 0, 0, 0, 0, 0, 0, 0, 0, 0, 0, 0, 0, 0, 0, 0, 0, 0, 0, 0, 0.9990395307540894, 0.7543814182281494, 0, 0, 0, 0, 0, 0, 0, 0, 0, 0, 0, 0, 0, 0, 0, 0, 0, 0, 0, 0, 0, 0, 0, 0, 0, 0, 0, 0, 0, 0, 0, 0, 0, 0, 0, 0, 0, 0, 0, 0, 0, 0, 0, 0, 0, 0, 0, 0, 0, 0, 0, 0, 0, 0, 0, 0, 0, 0, 0, 0, 0, 0, 0, 0, 0, 0, 0, 0, 0, 0, 0, 0, 0, 0, 0, 0, 0, 0, 0, 0, 0, 0, 0, 0, 0, 0, 0, 0, 0, 0, 0, 0, 0, 0, 0, 0, 0, 0, 0, 0], shape=(1, 28, 28, 1))"
      ],
      "execution_count": 33,
      "outputs": []
    },
    {
      "cell_type": "code",
      "metadata": {
        "id": "B7BQCgz1HiCG",
        "colab": {
          "base_uri": "https://localhost:8080/",
          "height": 282
        },
        "outputId": "7145caae-3686-4a57-a8ed-203a1845b303"
      },
      "source": [
        "plot_img(one.numpy(), 1)"
      ],
      "execution_count": 34,
      "outputs": [
        {
          "output_type": "stream",
          "text": [
            "Number: 1\n"
          ],
          "name": "stdout"
        },
        {
          "output_type": "display_data",
          "data": {
            "image/png": "[encoded data removed]",
            "text/plain": [
              "<Figure size 432x288 with 1 Axes>"
            ]
          },
          "metadata": {
            "needs_background": "light"
          }
        }
      ]
    },
    {
      "cell_type": "code",
      "metadata": {
        "id": "-Pu4W-fpHo3b",
        "colab": {
          "base_uri": "https://localhost:8080/"
        },
        "outputId": "ece8a4e6-7b4a-421e-932f-c8b078f9e644"
      },
      "source": [
        "p = model.predict(one)\n",
        "print(p.max())\n",
        "np.argmax(p)"
      ],
      "execution_count": 44,
      "outputs": [
        {
          "output_type": "stream",
          "text": [
            "0.99609864\n"
          ],
          "name": "stdout"
        },
        {
          "output_type": "execute_result",
          "data": {
            "text/plain": [
              "1"
            ]
          },
          "metadata": {},
          "execution_count": 44
        }
      ]
    },
    {
      "cell_type": "code",
      "metadata": {
        "id": "VASffZglHwS-",
        "colab": {
          "base_uri": "https://localhost:8080/"
        },
        "outputId": "32e013c7-2c79-4df8-b5d4-0d1983fce433"
      },
      "source": [
        "p = model2.predict(one)\n",
        "print(p.max())\n",
        "np.argmax(p)"
      ],
      "execution_count": 45,
      "outputs": [
        {
          "output_type": "stream",
          "text": [
            "0.9979499\n"
          ],
          "name": "stdout"
        },
        {
          "output_type": "execute_result",
          "data": {
            "text/plain": [
              "1"
            ]
          },
          "metadata": {},
          "execution_count": 45
        }
      ]
    },
    {
      "cell_type": "code",
      "metadata": {
        "id": "5qAjnBziUCLY"
      },
      "source": [
        "model2.save('./DigitModel.h5')"
      ],
      "execution_count": 46,
      "outputs": []
    }
  ]
}