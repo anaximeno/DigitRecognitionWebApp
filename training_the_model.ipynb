{
  "nbformat": 4,
  "nbformat_minor": 0,
  "metadata": {
    "interpreter": {
      "hash": "6fe8bbdae9576cd38d715f63505ce5b72703db22056767f2f792b7399a92525e"
    },
    "kernelspec": {
      "name": "python3",
      "display_name": "Python 3.9.5 64-bit ('tensorflow': conda)"
    },
    "language_info": {
      "codemirror_mode": {
        "name": "ipython",
        "version": 3
      },
      "file_extension": ".py",
      "mimetype": "text/x-python",
      "name": "python",
      "nbconvert_exporter": "python",
      "pygments_lexer": "ipython3",
      "version": "3.9.5"
    },
    "colab": {
      "name": "training-the-model.ipynb",
      "provenance": [],
      "collapsed_sections": []
    },
    "accelerator": "GPU"
  },
  "cells": [
    {
      "cell_type": "code",
      "metadata": {
        "colab": {
          "base_uri": "https://localhost:8080/"
        },
        "id": "nEyj65UMhgOL",
        "outputId": "4af93aa1-cf3b-4146-c68e-750092292ae3"
      },
      "source": [
        "%matplotlib inline\n",
        "from tensorflow.keras import layers\n",
        "import matplotlib.pyplot as plt\n",
        "from tensorflow import keras\n",
        "import tensorflow as tf\n",
        "import numpy as np\n",
        "from sklearn.metrics import f1_score, confusion_matrix, ConfusionMatrixDisplay\n",
        "import pandas as pd\n",
        "\n",
        "print(\"TF version: \", tf.__version__)\n",
        "print(\"Keras version: \", keras.__version__)"
      ],
      "execution_count": 107,
      "outputs": [
        {
          "output_type": "stream",
          "name": "stdout",
          "text": [
            "TF version:  2.6.0\n",
            "Keras version:  2.6.0\n"
          ]
        }
      ]
    },
    {
      "cell_type": "code",
      "metadata": {
        "id": "j1S4FTKL6JZi"
      },
      "source": [
        "def plot_img(img: np.array, label: int, sqz: bool = True):\n",
        "    print('Number:', label)\n",
        "    if sqz:\n",
        "        img = img.squeeze()\n",
        "    plt.imshow(img, cmap='Greys_r')"
      ],
      "execution_count": 108,
      "outputs": []
    },
    {
      "cell_type": "code",
      "metadata": {
        "id": "u0R1d0m5hgOX",
        "colab": {
          "base_uri": "https://localhost:8080/"
        },
        "outputId": "8b80de50-4246-4daf-d9d3-8d63fd3bd9bc"
      },
      "source": [
        "# Getting the mnist dataset\n",
        "mnist = keras.datasets.mnist\n",
        "(X_train, y_train), (X_dev, y_dev) = mnist.load_data()\n",
        "\n",
        "\n",
        "# Normalize to values between 0 and 1\n",
        "rescale = layers.Rescaling(1./255)\n",
        "\n",
        "\n",
        "# Rescaling and reshaping the dataset\n",
        "X_train = tf.reshape(rescale(X_train), shape=(-1, 28, 28, 1))\n",
        "X_dev = tf.reshape(rescale(X_dev), shape=(-1, 28, 28, 1))\n",
        "\n",
        "# First Padding\n",
        "padding = [[0, 0], [1, 1], [1, 1], [0, 0]]\n",
        "X_train = tf.pad(X_train, padding)\n",
        "X_dev = tf.pad(X_dev, padding)\n",
        "\n",
        "# Sequence of transformations for data augmentation\n",
        "transform = keras.Sequential([\n",
        "    layers.RandomRotation(0.01),\n",
        "    layers.RandomTranslation(0.18, 0.18),\n",
        "    layers.RandomZoom((-0.1, 0.05)),\n",
        "])\n",
        "\n",
        "\n",
        "# Apply the transformations and the second padding to the dataset\n",
        "X_train = tf.pad(transform(X_train), padding)\n",
        "X_dev = tf.pad(transform(X_dev), padding)\n",
        "\n",
        "X_train.shape, X_dev.shape"
      ],
      "execution_count": 125,
      "outputs": [
        {
          "output_type": "execute_result",
          "data": {
            "text/plain": [
              "(TensorShape([60000, 32, 32, 1]), TensorShape([10000, 32, 32, 1]))"
            ]
          },
          "metadata": {},
          "execution_count": 125
        }
      ]
    },
    {
      "cell_type": "code",
      "metadata": {
        "colab": {
          "base_uri": "https://localhost:8080/",
          "height": 285
        },
        "id": "ICTnuEschgOY",
        "outputId": "e7cad7bd-fb98-4b7f-c636-e05de1e8ac1b"
      },
      "source": [
        "n = np.random.randint(X_train.shape[0])\n",
        "plot_img(X_train[n].numpy(), y_train[n])"
      ],
      "execution_count": 132,
      "outputs": [
        {
          "output_type": "stream",
          "name": "stdout",
          "text": [
            "Number: 9\n"
          ]
        },
        {
          "output_type": "display_data",
          "data": {
            "image/png": "[encoded data removed]",
            "text/plain": [
              "<Figure size 432x288 with 1 Axes>"
            ]
          },
          "metadata": {
            "needs_background": "light"
          }
        }
      ]
    },
    {
      "cell_type": "code",
      "metadata": {
        "colab": {
          "base_uri": "https://localhost:8080/"
        },
        "id": "Xwtisvn8hgOa",
        "outputId": "0e1dec83-4451-4391-9f27-57000e9bfc6a"
      },
      "source": [
        "INPUT_SIZE = 32\n",
        "\n",
        "# Creating the my mnist classification model\n",
        "model = keras.Sequential([\n",
        "    \n",
        "    # First block of convolutional layers\n",
        "    layers.Conv2D(16, (5, 5), padding='same', activation='relu', input_shape=(INPUT_SIZE, INPUT_SIZE, 1)),\n",
        "    layers.Conv2D(16, (5, 5), padding='same', activation='relu'),\n",
        "    layers.MaxPool2D(2, 2),\n",
        "\n",
        "    # Second block of Convolutional layers\n",
        "    layers.Conv2D(32, (3, 3), padding='same', activation='relu'),\n",
        "    layers.Conv2D(32, (3, 3), padding='same', activation='relu'),\n",
        "    layers.Conv2D(32, (3, 3), padding='same', activation='relu'),\n",
        "    layers.MaxPool2D(2, 2, padding='same'),\n",
        "\n",
        "    # Third block of Convolutional layers \n",
        "    layers.Conv2D(64, (3, 3), padding='same', activation='relu'),\n",
        "    layers.Conv2D(64, (3, 3), activation='relu'),\n",
        "    layers.MaxPool2D(2, 1, padding='valid'),\n",
        "    layers.MaxPool2D(2, 1, padding='valid'),\n",
        "\n",
        "    layers.Dropout(rate=0.3),\n",
        "\n",
        "    layers.Flatten(),\n",
        "\n",
        "    # Fully connected (Dense) neural networks\n",
        "    layers.Dense(units=256, activation='relu'),\n",
        "    layers.Dropout(rate=0.3),\n",
        "    layers.Dense(units=64, activation='relu'),\n",
        "    layers.Dense(units=10, activation='softmax')\n",
        "], name='Mnet_V2')\n",
        "\n",
        "\n",
        "# Defining some of the hyperparameters of the model\n",
        "model.compile(optimizer='adam',\n",
        "    loss='sparse_categorical_crossentropy',\n",
        "    metrics=['accuracy']\n",
        ")\n",
        "\n",
        "\n",
        "# Printing the summary of the model\n",
        "model.summary()\n",
        "print('\\n')"
      ],
      "execution_count": 156,
      "outputs": [
        {
          "output_type": "stream",
          "name": "stdout",
          "text": [
            "Model: \"Mnet_V2\"\n",
            "_________________________________________________________________\n",
            "Layer (type)                 Output Shape              Param #   \n",
            "=================================================================\n",
            "conv2d_85 (Conv2D)           (None, 32, 32, 16)        416       \n",
            "_________________________________________________________________\n",
            "conv2d_86 (Conv2D)           (None, 32, 32, 16)        6416      \n",
            "_________________________________________________________________\n",
            "max_pooling2d_62 (MaxPooling (None, 16, 16, 16)        0         \n",
            "_________________________________________________________________\n",
            "conv2d_87 (Conv2D)           (None, 16, 16, 32)        4640      \n",
            "_________________________________________________________________\n",
            "conv2d_88 (Conv2D)           (None, 16, 16, 32)        9248      \n",
            "_________________________________________________________________\n",
            "conv2d_89 (Conv2D)           (None, 16, 16, 32)        9248      \n",
            "_________________________________________________________________\n",
            "max_pooling2d_63 (MaxPooling (None, 8, 8, 32)          0         \n",
            "_________________________________________________________________\n",
            "conv2d_90 (Conv2D)           (None, 8, 8, 64)          18496     \n",
            "_________________________________________________________________\n",
            "conv2d_91 (Conv2D)           (None, 6, 6, 64)          36928     \n",
            "_________________________________________________________________\n",
            "max_pooling2d_64 (MaxPooling (None, 5, 5, 64)          0         \n",
            "_________________________________________________________________\n",
            "max_pooling2d_65 (MaxPooling (None, 4, 4, 64)          0         \n",
            "_________________________________________________________________\n",
            "dropout_30 (Dropout)         (None, 4, 4, 64)          0         \n",
            "_________________________________________________________________\n",
            "flatten_15 (Flatten)         (None, 1024)              0         \n",
            "_________________________________________________________________\n",
            "dense_45 (Dense)             (None, 256)               262400    \n",
            "_________________________________________________________________\n",
            "dropout_31 (Dropout)         (None, 256)               0         \n",
            "_________________________________________________________________\n",
            "dense_46 (Dense)             (None, 64)                16448     \n",
            "_________________________________________________________________\n",
            "dense_47 (Dense)             (None, 10)                650       \n",
            "=================================================================\n",
            "Total params: 364,890\n",
            "Trainable params: 364,890\n",
            "Non-trainable params: 0\n",
            "_________________________________________________________________\n",
            "\n",
            "\n"
          ]
        }
      ]
    },
    {
      "cell_type": "code",
      "metadata": {
        "colab": {
          "base_uri": "https://localhost:8080/"
        },
        "id": "OQdRpAf3hgOd",
        "outputId": "1ea4725b-3715-419c-f822-e7ef7a73f168"
      },
      "source": [
        "# Callback to reduct the learning rate when it is no more effective \n",
        "learning_rate_reduction = keras.callbacks.ReduceLROnPlateau(patience=3, factor=0.5, verbose=1, min_delta=1e5)\n",
        "\n",
        "\n",
        "# Fitting (training) the model to the dataset\n",
        "hist = model.fit(X_train, y_train,\n",
        "    batch_size=32, epochs=30,\n",
        "    validation_data=(X_dev, y_dev),\n",
        "    callbacks=[learning_rate_reduction]\n",
        ")"
      ],
      "execution_count": null,
      "outputs": [
        {
          "output_type": "stream",
          "name": "stdout",
          "text": [
            "Epoch 1/30\n",
            "1875/1875 [==============================] - 20s 10ms/step - loss: 0.3229 - accuracy: 0.8941 - val_loss: 0.1074 - val_accuracy: 0.9691\n",
            "Epoch 2/30\n",
            "1875/1875 [==============================] - 18s 10ms/step - loss: 0.0823 - accuracy: 0.9775 - val_loss: 0.0716 - val_accuracy: 0.9800\n",
            "Epoch 3/30\n",
            "1875/1875 [==============================] - 19s 10ms/step - loss: 0.0663 - accuracy: 0.9816 - val_loss: 0.0598 - val_accuracy: 0.9824\n",
            "Epoch 4/30\n",
            "1875/1875 [==============================] - 19s 10ms/step - loss: 0.0570 - accuracy: 0.9837 - val_loss: 0.0334 - val_accuracy: 0.9908\n",
            "\n",
            "Epoch 00004: ReduceLROnPlateau reducing learning rate to 0.0005000000237487257.\n",
            "Epoch 5/30\n",
            "1875/1875 [==============================] - 18s 10ms/step - loss: 0.0293 - accuracy: 0.9919 - val_loss: 0.0223 - val_accuracy: 0.9934\n",
            "Epoch 6/30\n",
            "1875/1875 [==============================] - 18s 10ms/step - loss: 0.0249 - accuracy: 0.9927 - val_loss: 0.0295 - val_accuracy: 0.9925\n",
            "Epoch 7/30\n",
            "1875/1875 [==============================] - 18s 10ms/step - loss: 0.0235 - accuracy: 0.9932 - val_loss: 0.0382 - val_accuracy: 0.9892\n",
            "\n",
            "Epoch 00007: ReduceLROnPlateau reducing learning rate to 0.0002500000118743628.\n",
            "Epoch 8/30\n",
            "1875/1875 [==============================] - 19s 10ms/step - loss: 0.0116 - accuracy: 0.9966 - val_loss: 0.0214 - val_accuracy: 0.9945\n",
            "Epoch 9/30\n",
            "1875/1875 [==============================] - 19s 10ms/step - loss: 0.0094 - accuracy: 0.9973 - val_loss: 0.0218 - val_accuracy: 0.9942\n",
            "Epoch 10/30\n",
            "1875/1875 [==============================] - 18s 10ms/step - loss: 0.0081 - accuracy: 0.9975 - val_loss: 0.0382 - val_accuracy: 0.9917\n",
            "\n",
            "Epoch 00010: ReduceLROnPlateau reducing learning rate to 0.0001250000059371814.\n",
            "Epoch 11/30\n",
            "1875/1875 [==============================] - 19s 10ms/step - loss: 0.0044 - accuracy: 0.9985 - val_loss: 0.0220 - val_accuracy: 0.9949\n",
            "Epoch 12/30\n",
            "1875/1875 [==============================] - 18s 10ms/step - loss: 0.0029 - accuracy: 0.9991 - val_loss: 0.0271 - val_accuracy: 0.9949\n",
            "Epoch 13/30\n",
            "1875/1875 [==============================] - 18s 10ms/step - loss: 0.0028 - accuracy: 0.9991 - val_loss: 0.0216 - val_accuracy: 0.9962\n",
            "\n",
            "Epoch 00013: ReduceLROnPlateau reducing learning rate to 6.25000029685907e-05.\n",
            "Epoch 14/30\n",
            "1875/1875 [==============================] - 18s 10ms/step - loss: 0.0016 - accuracy: 0.9995 - val_loss: 0.0242 - val_accuracy: 0.9955\n",
            "Epoch 15/30\n",
            "1875/1875 [==============================] - 18s 10ms/step - loss: 0.0013 - accuracy: 0.9996 - val_loss: 0.0256 - val_accuracy: 0.9956\n",
            "Epoch 16/30\n",
            "1875/1875 [==============================] - 19s 10ms/step - loss: 9.1690e-04 - accuracy: 0.9997 - val_loss: 0.0251 - val_accuracy: 0.9955\n",
            "\n",
            "Epoch 00016: ReduceLROnPlateau reducing learning rate to 3.125000148429535e-05.\n",
            "Epoch 17/30\n",
            "1875/1875 [==============================] - 18s 10ms/step - loss: 8.3505e-04 - accuracy: 0.9998 - val_loss: 0.0241 - val_accuracy: 0.9960\n",
            "Epoch 18/30\n",
            "1875/1875 [==============================] - 18s 10ms/step - loss: 4.5731e-04 - accuracy: 0.9998 - val_loss: 0.0242 - val_accuracy: 0.9965\n",
            "Epoch 19/30\n",
            "1875/1875 [==============================] - 18s 10ms/step - loss: 5.5224e-04 - accuracy: 0.9998 - val_loss: 0.0256 - val_accuracy: 0.9954\n",
            "\n",
            "Epoch 00019: ReduceLROnPlateau reducing learning rate to 1.5625000742147677e-05.\n",
            "Epoch 20/30\n",
            "1875/1875 [==============================] - 19s 10ms/step - loss: 4.1020e-04 - accuracy: 0.9999 - val_loss: 0.0253 - val_accuracy: 0.9960\n",
            "Epoch 21/30\n",
            "1875/1875 [==============================] - 19s 10ms/step - loss: 4.1654e-04 - accuracy: 0.9998 - val_loss: 0.0250 - val_accuracy: 0.9963\n",
            "Epoch 22/30\n",
            "1875/1875 [==============================] - 18s 10ms/step - loss: 4.3326e-04 - accuracy: 0.9998 - val_loss: 0.0253 - val_accuracy: 0.9961\n",
            "\n",
            "Epoch 00022: ReduceLROnPlateau reducing learning rate to 7.812500371073838e-06.\n",
            "Epoch 23/30\n",
            "1875/1875 [==============================] - 19s 10ms/step - loss: 2.5778e-04 - accuracy: 0.9999 - val_loss: 0.0260 - val_accuracy: 0.9958\n",
            "Epoch 24/30\n",
            "1875/1875 [==============================] - 19s 10ms/step - loss: 3.6082e-04 - accuracy: 0.9999 - val_loss: 0.0250 - val_accuracy: 0.9962\n",
            "Epoch 25/30\n",
            "1875/1875 [==============================] - 18s 10ms/step - loss: 2.2688e-04 - accuracy: 0.9999 - val_loss: 0.0263 - val_accuracy: 0.9962\n",
            "\n",
            "Epoch 00025: ReduceLROnPlateau reducing learning rate to 3.906250185536919e-06.\n",
            "Epoch 26/30\n",
            "1875/1875 [==============================] - 18s 10ms/step - loss: 3.7294e-04 - accuracy: 0.9999 - val_loss: 0.0258 - val_accuracy: 0.9961\n",
            "Epoch 27/30\n",
            "1875/1875 [==============================] - 19s 10ms/step - loss: 2.9835e-04 - accuracy: 0.9999 - val_loss: 0.0257 - val_accuracy: 0.9962\n",
            "Epoch 28/30\n",
            "1875/1875 [==============================] - 19s 10ms/step - loss: 2.3704e-04 - accuracy: 0.9999 - val_loss: 0.0256 - val_accuracy: 0.9961\n",
            "\n",
            "Epoch 00028: ReduceLROnPlateau reducing learning rate to 1.9531250927684596e-06.\n",
            "Epoch 29/30\n",
            "1875/1875 [==============================] - 19s 10ms/step - loss: 2.6547e-04 - accuracy: 0.9999 - val_loss: 0.0257 - val_accuracy: 0.9961\n",
            "Epoch 30/30\n",
            "1875/1875 [==============================] - 18s 10ms/step - loss: 2.3234e-04 - accuracy: 0.9999 - val_loss: 0.0257 - val_accuracy: 0.9963\n"
          ]
        }
      ]
    },
    {
      "cell_type": "code",
      "metadata": {
        "colab": {
          "base_uri": "https://localhost:8080/",
          "height": 281
        },
        "id": "P9RH4p_-8tDn",
        "outputId": "81147afe-20f5-4787-c886-e0b9d21617c0"
      },
      "source": [
        "plt.title('Accuracy')\n",
        "plt.plot(hist.epoch, hist.history['accuracy'])\n",
        "plt.plot(hist.epoch, hist.history['val_accuracy'])\n",
        "plt.legend(['Training accuracy', 'Validation accuracy'])\n",
        "plt.show();"
      ],
      "execution_count": 158,
      "outputs": [
        {
          "output_type": "display_data",
          "data": {
            "image/png": "[encoded data removed]",
            "text/plain": [
              "<Figure size 432x288 with 1 Axes>"
            ]
          },
          "metadata": {
            "needs_background": "light"
          }
        }
      ]
    },
    {
      "cell_type": "code",
      "metadata": {
        "colab": {
          "base_uri": "https://localhost:8080/",
          "height": 281
        },
        "id": "_KR_oHkfArwB",
        "outputId": "2d268443-aa78-4844-a219-a657c19cb095"
      },
      "source": [
        "plt.title('Loss')\n",
        "plt.plot(hist.epoch, hist.history['loss'])\n",
        "plt.plot(hist.epoch, hist.history['val_loss'])\n",
        "plt.legend(['Trainig loss', 'Validation loss'])\n",
        "plt.show();"
      ],
      "execution_count": 159,
      "outputs": [
        {
          "output_type": "display_data",
          "data": {
            "image/png": "[encoded data removed]",
            "text/plain": [
              "<Figure size 432x288 with 1 Axes>"
            ]
          },
          "metadata": {
            "needs_background": "light"
          }
        }
      ]
    },
    {
      "cell_type": "code",
      "metadata": {
        "id": "s7D63QmKhgOe"
      },
      "source": [
        "p_dev = np.argmax(model.predict(X_dev), axis=1)\n",
        "p_train = np.argmax(model.predict(X_train), axis=1)"
      ],
      "execution_count": 160,
      "outputs": []
    },
    {
      "cell_type": "code",
      "metadata": {
        "colab": {
          "base_uri": "https://localhost:8080/"
        },
        "id": "1LigJ_8Gjklg",
        "outputId": "7f5c0cf8-38d3-4d14-8606-e58697ee532a"
      },
      "source": [
        "print(\"DEV F1 SCORE: \", f1_score(y_dev, p_dev, average='weighted'))\n",
        "print(\"TRAIN F1 SCORE: \", f1_score(y_train, p_train, average='weighted'))"
      ],
      "execution_count": 161,
      "outputs": [
        {
          "output_type": "stream",
          "name": "stdout",
          "text": [
            "DEV F1 SCORE:  0.9962983882986312\n",
            "TRAIN F1 SCORE:  0.9999666651786304\n"
          ]
        }
      ]
    },
    {
      "cell_type": "code",
      "metadata": {
        "colab": {
          "base_uri": "https://localhost:8080/",
          "height": 297
        },
        "id": "lc1P-nzrkbK5",
        "outputId": "31105a3f-0edc-4a00-83bd-4ff0906bec39"
      },
      "source": [
        "print(\"DEV CONFUSION MATRIX:\")\n",
        "cm = confusion_matrix(y_dev, p_dev)\n",
        "disp = ConfusionMatrixDisplay(confusion_matrix=cm, display_labels=np.arange(0, 10))\n",
        "disp.plot(include_values=True, cmap=plt.cm.Blues, xticks_rotation='horizontal', values_format='');"
      ],
      "execution_count": 162,
      "outputs": [
        {
          "output_type": "stream",
          "name": "stdout",
          "text": [
            "DEV CONFUSION MATRIX:\n"
          ]
        },
        {
          "output_type": "display_data",
          "data": {
            "image/png": "[encoded data removed]",
            "text/plain": [
              "<Figure size 432x288 with 2 Axes>"
            ]
          },
          "metadata": {
            "needs_background": "light"
          }
        }
      ]
    },
    {
      "cell_type": "code",
      "metadata": {
        "id": "L_4Yd3RqGScP"
      },
      "source": [
        "one = tf.constant([0, 0, 0, 0, 0, 0, 0, 0, 0, 0, 0, 0, 0, 0, 0, 0, 0, 0, 0, 0, 0, 0, 0, 0, 0, 0, 0, 0, 0, 0, 0, 0, 0, 0, 0, 0, 0, 0, 0, 0, 0, 0, 0, 0, 0, 0, 0, 0, 0, 0, 0, 0, 0, 0, 0, 0, 0, 0, 0, 0, 0, 0, 0, 0, 0, 0, 0, 0.16326458752155304, 1, 1, 0, 0, 0, 0, 0, 0, 0, 0, 0, 0, 0, 0, 0, 0, 0, 0, 0, 0, 0, 0, 0, 0, 0, 0, 0, 1, 1, 1, 0, 0, 0, 0, 0, 0, 0, 0, 0, 0, 0, 0, 0, 0, 0, 0, 0, 0, 0, 0, 0, 0, 0, 0, 1, 1, 1, 1, 0, 0, 0, 0, 0, 0, 0, 0, 0, 0, 0, 0, 0, 0, 0, 0, 0, 0, 0, 0, 0, 0, 0, 0, 1, 1, 1, 1, 0, 0, 0, 0, 0, 0, 0, 0, 0, 0, 0, 0, 0, 0, 0, 0, 0, 0, 0, 0, 0, 0, 0, 1, 1, 1, 1, 1, 0, 0, 0, 0, 0, 0, 0, 0, 0, 0, 0, 0, 0, 0, 0, 0, 0, 0, 0, 0, 0, 0, 1, 1, 1, 0.5714263319969177, 1, 1, 0, 0, 0, 0, 0, 0, 0, 0, 0, 0, 0, 0, 0, 0, 0, 0, 0, 0, 0, 0, 0, 0.14285658299922943, 1, 1, 0.4897943437099457, 1, 1, 1, 0, 0, 0, 0, 0, 0, 0, 0, 0, 0, 0, 0, 0, 0, 0, 0, 0, 0, 0, 0, 0.24489717185497284, 1, 1, 1, 0, 1, 1, 0.14286039769649506, 0, 0, 0, 0, 0, 0, 0, 0, 0, 0, 0, 0, 0, 0, 0, 0, 0, 0, 0, 0, 1, 1, 0.9996798634529114, 0, 0, 1, 1, 0, 0, 0, 0, 0, 0, 0, 0, 0, 0, 0, 0, 0, 0, 0, 0, 0, 0, 0, 0, 1, 1, 1, 0, 0, 0, 1, 1, 0, 0, 0, 0, 0, 0, 0, 0, 0, 0, 0, 0, 0, 0, 0, 0, 0, 0, 0, 0, 0.20408114790916443, 1, 0, 0, 0, 0, 1, 1, 0, 0, 0, 0, 0, 0, 0, 0, 0, 0, 0, 0, 0, 0, 0, 0, 0, 0, 0, 0, 0, 0, 0, 0, 0, 0, 1, 1, 0, 0, 0, 0, 0, 0, 0, 0, 0, 0, 0, 0, 0, 0, 0, 0, 0, 0, 0, 0, 0, 0, 0, 0, 0, 0, 1, 1, 0, 0, 0, 0, 0, 0, 0, 0, 0, 0, 0, 0, 0, 0, 0, 0, 0, 0, 0, 0, 0, 0, 0, 0, 0, 0, 1, 1, 0, 0, 0, 0, 0, 0, 0, 0, 0, 0, 0, 0, 0, 0, 0, 0, 0, 0, 0, 0, 0, 0, 0, 0, 0, 0.4285736083984375, 1, 1, 0, 0, 0, 0, 0, 0, 0, 0, 0, 0, 0, 0, 0, 0, 0, 0, 0, 0, 0, 0, 0, 0, 0, 0, 0, 1, 1, 0.9983993172645569, 0, 0, 0, 0, 0, 0, 0, 0, 0, 0, 0, 0, 0, 0, 0, 0, 0, 0, 0, 0, 0, 0, 0, 0, 0, 1, 1, 0.5918376445770264, 0, 0, 0, 0, 0, 0, 0, 0, 0, 0, 0, 0, 0, 0, 0, 0, 0, 0, 0, 0, 0, 0, 0, 0, 0, 1, 1, 0.28571316599845886, 0, 0, 0, 0, 0, 0, 0, 0, 0, 0, 0, 0, 0, 0, 0, 0, 0, 0, 0, 0, 0, 0, 0, 0, 0, 1, 1, 0, 0, 0, 0, 0, 0, 0, 0, 0, 0, 0, 0, 0, 0, 0, 0, 0, 0, 0, 0, 0, 0, 0, 0, 0, 0, 1, 1, 0, 0, 0, 0, 0, 0, 0, 0, 0, 0, 0, 0, 0, 0, 0, 0, 0, 0, 0, 0, 0, 0, 0, 0, 0, 0, 1, 1, 0, 0, 0, 0, 0, 0, 0, 0, 0, 0, 0, 0, 0, 0, 0, 0, 0, 0, 0, 0, 0, 0, 0, 0, 0, 0, 1, 1, 0, 0, 0, 0, 0, 0, 0, 0, 0, 0, 0, 0, 0, 0, 0, 0, 0, 0, 0, 0, 0, 0, 0, 0, 0, 0, 0.9990395307540894, 0.7543814182281494, 0, 0, 0, 0, 0, 0, 0, 0, 0, 0, 0, 0, 0, 0, 0, 0, 0, 0, 0, 0, 0, 0, 0, 0, 0, 0, 0, 0, 0, 0, 0, 0, 0, 0, 0, 0, 0, 0, 0, 0, 0, 0, 0, 0, 0, 0, 0, 0, 0, 0, 0, 0, 0, 0, 0, 0, 0, 0, 0, 0, 0, 0, 0, 0, 0, 0, 0, 0, 0, 0, 0, 0, 0, 0, 0, 0, 0, 0, 0, 0, 0, 0, 0, 0, 0, 0, 0, 0, 0, 0, 0, 0, 0, 0, 0, 0, 0, 0, 0, 0], shape=(1, 28, 28, 1))"
      ],
      "execution_count": 167,
      "outputs": []
    },
    {
      "cell_type": "code",
      "metadata": {
        "colab": {
          "base_uri": "https://localhost:8080/"
        },
        "id": "Rk2V75uXtb7H",
        "outputId": "17d92082-d729-4444-83b3-aeec4be587f0"
      },
      "source": [
        "one = np.pad(one, padding)\n",
        "one = np.pad(one, padding)\n",
        "one.shape"
      ],
      "execution_count": 168,
      "outputs": [
        {
          "output_type": "execute_result",
          "data": {
            "text/plain": [
              "(1, 32, 32, 1)"
            ]
          },
          "metadata": {},
          "execution_count": 168
        }
      ]
    },
    {
      "cell_type": "code",
      "metadata": {
        "id": "B7BQCgz1HiCG",
        "colab": {
          "base_uri": "https://localhost:8080/",
          "height": 285
        },
        "outputId": "5a694c9a-3f34-4d14-f8b3-eb70f28fbe34"
      },
      "source": [
        "plot_img(one[0].squeeze(), 1)"
      ],
      "execution_count": 170,
      "outputs": [
        {
          "output_type": "stream",
          "name": "stdout",
          "text": [
            "Number: 1\n"
          ]
        },
        {
          "output_type": "display_data",
          "data": {
            "image/png": "[encoded data removed]",
            "text/plain": [
              "<Figure size 432x288 with 1 Axes>"
            ]
          },
          "metadata": {
            "needs_background": "light"
          }
        }
      ]
    },
    {
      "cell_type": "code",
      "metadata": {
        "id": "-Pu4W-fpHo3b",
        "colab": {
          "base_uri": "https://localhost:8080/"
        },
        "outputId": "3e947707-deb7-43e9-86c4-e096dbb0b75d"
      },
      "source": [
        "p = model.predict(one)\n",
        "print(p.max())\n",
        "np.argmax(p)"
      ],
      "execution_count": 171,
      "outputs": [
        {
          "output_type": "stream",
          "name": "stdout",
          "text": [
            "0.99988055\n"
          ]
        },
        {
          "output_type": "execute_result",
          "data": {
            "text/plain": [
              "1"
            ]
          },
          "metadata": {},
          "execution_count": 171
        }
      ]
    },
    {
      "cell_type": "code",
      "metadata": {
        "id": "5qAjnBziUCLY"
      },
      "source": [
        "model.save('DigitRecognitionModel_v5.h5')"
      ],
      "execution_count": 172,
      "outputs": []
    }
  ]
}