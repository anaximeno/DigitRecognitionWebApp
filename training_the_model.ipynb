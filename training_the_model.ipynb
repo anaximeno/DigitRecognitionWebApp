{
  "nbformat": 4,
  "nbformat_minor": 0,
  "metadata": {
    "interpreter": {
      "hash": "6fe8bbdae9576cd38d715f63505ce5b72703db22056767f2f792b7399a92525e"
    },
    "kernelspec": {
      "name": "python3",
      "display_name": "Python 3.9.5 64-bit ('tensorflow': conda)"
    },
    "language_info": {
      "codemirror_mode": {
        "name": "ipython",
        "version": 3
      },
      "file_extension": ".py",
      "mimetype": "text/x-python",
      "name": "python",
      "nbconvert_exporter": "python",
      "pygments_lexer": "ipython3",
      "version": "3.9.5"
    },
    "colab": {
      "name": "training-the-model.ipynb",
      "provenance": [],
      "collapsed_sections": []
    },
    "accelerator": "GPU"
  },
  "cells": [
    {
      "cell_type": "code",
      "metadata": {
        "colab": {
          "base_uri": "https://localhost:8080/"
        },
        "id": "nEyj65UMhgOL",
        "outputId": "b9001268-176d-440b-b68b-d658e4cb9d8a"
      },
      "source": [
        "%matplotlib inline\n",
        "from tensorflow.keras import layers\n",
        "import matplotlib.pyplot as plt\n",
        "from tensorflow import keras\n",
        "import tensorflow as tf\n",
        "import numpy as np\n",
        "from sklearn.metrics import f1_score, confusion_matrix\n",
        "import pandas as pd\n",
        "\n",
        "print(\"TF version: \", tf.__version__)\n",
        "print(\"Keras version: \", keras.__version__)"
      ],
      "execution_count": 262,
      "outputs": [
        {
          "output_type": "stream",
          "text": [
            "TF version:  2.5.0\n",
            "Keras version:  2.5.0\n"
          ],
          "name": "stdout"
        }
      ]
    },
    {
      "cell_type": "code",
      "metadata": {
        "id": "_g1HQOYkhgOR",
        "outputId": "36d6e177-2bba-4039-b5ab-eb05ae9fa863",
        "colab": {
          "base_uri": "https://localhost:8080/"
        }
      },
      "source": [
        "mnist = keras.datasets.mnist\n",
        "(X_train, y_train), (X_dev, y_dev) = mnist.load_data()"
      ],
      "execution_count": 2,
      "outputs": [
        {
          "output_type": "stream",
          "text": [
            "Downloading data from https://storage.googleapis.com/tensorflow/tf-keras-datasets/mnist.npz\n",
            "11493376/11490434 [==============================] - 0s 0us/step\n"
          ],
          "name": "stdout"
        }
      ]
    },
    {
      "cell_type": "code",
      "metadata": {
        "id": "hJIQSf2GhgOT"
      },
      "source": [
        "rescale = keras.Sequential([layers.experimental.preprocessing.Rescaling(1.0/255)])"
      ],
      "execution_count": 4,
      "outputs": []
    },
    {
      "cell_type": "code",
      "metadata": {
        "id": "JgeQ2yWBhgOU"
      },
      "source": [
        "X_train = tf.reshape(rescale(X_train), shape=(-1, 28, 28, 1))\n",
        "X_dev = tf.reshape(rescale(X_dev), shape=(-1, 28, 28, 1))"
      ],
      "execution_count": 5,
      "outputs": []
    },
    {
      "cell_type": "code",
      "metadata": {
        "colab": {
          "base_uri": "https://localhost:8080/"
        },
        "id": "Ou9lRXKfhgOV",
        "outputId": "a3d777f2-f9ff-469d-cf82-9580e151097a"
      },
      "source": [
        "X_train.shape, X_dev.shape"
      ],
      "execution_count": 6,
      "outputs": [
        {
          "output_type": "execute_result",
          "data": {
            "text/plain": [
              "(TensorShape([60000, 28, 28, 1]), TensorShape([10000, 28, 28, 1]))"
            ]
          },
          "metadata": {
            "tags": []
          },
          "execution_count": 6
        }
      ]
    },
    {
      "cell_type": "code",
      "metadata": {
        "id": "u0R1d0m5hgOX"
      },
      "source": [
        "transformations = keras.Sequential([\n",
        "    layers.experimental.preprocessing.RandomRotation(0.01),\n",
        "    layers.experimental.preprocessing.RandomTranslation(0.1, 0.1),\n",
        "    layers.experimental.preprocessing.RandomZoom((-0.1, 0.1))\n",
        "])\n",
        "X_train_transformed = transformations(X_train)\n",
        "X_dev_transformed = transformations(X_dev)"
      ],
      "execution_count": 225,
      "outputs": []
    },
    {
      "cell_type": "code",
      "metadata": {
        "id": "j1S4FTKL6JZi"
      },
      "source": [
        "def plot_img(img: np.array, label: int):\n",
        "    print('Number:', label)\n",
        "    plt.imshow(img.squeeze(), cmap='gray')"
      ],
      "execution_count": 226,
      "outputs": []
    },
    {
      "cell_type": "code",
      "metadata": {
        "colab": {
          "base_uri": "https://localhost:8080/",
          "height": 282
        },
        "id": "ICTnuEschgOY",
        "outputId": "8276ec33-c011-4015-a829-bd9a4b948683"
      },
      "source": [
        "n = np.random.randint(X_train_transformed.shape[0])\n",
        "plot_img(X_train_transformed[n].numpy(), y_train[n])"
      ],
      "execution_count": 227,
      "outputs": [
        {
          "output_type": "stream",
          "text": [
            "Number: 4\n"
          ],
          "name": "stdout"
        },
        {
          "output_type": "display_data",
          "data": {
            "image/png": "[encoded data removed]",
            "text/plain": [
              "<Figure size 432x288 with 1 Axes>"
            ]
          },
          "metadata": {
            "tags": [],
            "needs_background": "light"
          }
        }
      ]
    },
    {
      "cell_type": "code",
      "metadata": {
        "colab": {
          "base_uri": "https://localhost:8080/"
        },
        "id": "Xwtisvn8hgOa",
        "outputId": "0dce7a99-2238-4624-a1f8-a44195248db2"
      },
      "source": [
        "model = keras.Sequential([\n",
        "    layers.Conv2D(32, (5, 5), activation='relu', input_shape=(28, 28, 1)),\n",
        "    layers.MaxPool2D(2, 2),\n",
        "    layers.Conv2D(16, (5, 5), activation='relu'),\n",
        "    layers.MaxPool2D(2, 2),\n",
        "\n",
        "    layers.Dropout(rate=0.3),\n",
        "\n",
        "    layers.Flatten(),\n",
        "\n",
        "    layers.Dense(units=256, activation='relu'),\n",
        "    layers.Dense(units=10, activation='softmax')\n",
        "])\n",
        "\n",
        "model.compile(\n",
        "    optimizer='adam',\n",
        "    loss='sparse_categorical_crossentropy',\n",
        "    metrics=['accuracy']\n",
        ")\n",
        "\n",
        "model.summary()"
      ],
      "execution_count": 13,
      "outputs": [
        {
          "output_type": "stream",
          "text": [
            "Model: \"sequential_3\"\n",
            "_________________________________________________________________\n",
            "Layer (type)                 Output Shape              Param #   \n",
            "=================================================================\n",
            "conv2d (Conv2D)              (None, 24, 24, 32)        832       \n",
            "_________________________________________________________________\n",
            "max_pooling2d (MaxPooling2D) (None, 12, 12, 32)        0         \n",
            "_________________________________________________________________\n",
            "conv2d_1 (Conv2D)            (None, 8, 8, 16)          12816     \n",
            "_________________________________________________________________\n",
            "max_pooling2d_1 (MaxPooling2 (None, 4, 4, 16)          0         \n",
            "_________________________________________________________________\n",
            "dropout (Dropout)            (None, 4, 4, 16)          0         \n",
            "_________________________________________________________________\n",
            "flatten (Flatten)            (None, 256)               0         \n",
            "_________________________________________________________________\n",
            "dense (Dense)                (None, 256)               65792     \n",
            "_________________________________________________________________\n",
            "dense_1 (Dense)              (None, 10)                2570      \n",
            "=================================================================\n",
            "Total params: 82,010\n",
            "Trainable params: 82,010\n",
            "Non-trainable params: 0\n",
            "_________________________________________________________________\n"
          ],
          "name": "stdout"
        }
      ]
    },
    {
      "cell_type": "code",
      "metadata": {
        "colab": {
          "base_uri": "https://localhost:8080/"
        },
        "id": "OQdRpAf3hgOd",
        "outputId": "fc1fe429-32d2-4e97-d820-0faff06ed301"
      },
      "source": [
        "hist = model.fit(X_train_transformed, y_train,\n",
        "    batch_size=32, epochs=15,\n",
        "    validation_data=(X_dev_transformed, y_dev)\n",
        ")"
      ],
      "execution_count": 14,
      "outputs": [
        {
          "output_type": "stream",
          "text": [
            "Epoch 1/10\n",
            "1875/1875 [==============================] - 39s 5ms/step - loss: 0.3348 - accuracy: 0.8940 - val_loss: 0.0886 - val_accuracy: 0.9727\n",
            "Epoch 2/10\n",
            "1875/1875 [==============================] - 9s 5ms/step - loss: 0.1261 - accuracy: 0.9610 - val_loss: 0.0674 - val_accuracy: 0.9787\n",
            "Epoch 3/10\n",
            "1875/1875 [==============================] - 9s 5ms/step - loss: 0.0922 - accuracy: 0.9710 - val_loss: 0.0551 - val_accuracy: 0.9813\n",
            "Epoch 4/10\n",
            "1875/1875 [==============================] - 9s 5ms/step - loss: 0.0751 - accuracy: 0.9765 - val_loss: 0.0490 - val_accuracy: 0.9831\n",
            "Epoch 5/10\n",
            "1875/1875 [==============================] - 10s 5ms/step - loss: 0.0678 - accuracy: 0.9789 - val_loss: 0.0407 - val_accuracy: 0.9871\n",
            "Epoch 6/10\n",
            "1875/1875 [==============================] - 10s 5ms/step - loss: 0.0613 - accuracy: 0.9799 - val_loss: 0.0396 - val_accuracy: 0.9875\n",
            "Epoch 7/10\n",
            "1875/1875 [==============================] - 9s 5ms/step - loss: 0.0534 - accuracy: 0.9824 - val_loss: 0.0426 - val_accuracy: 0.9868\n",
            "Epoch 8/10\n",
            "1875/1875 [==============================] - 9s 5ms/step - loss: 0.0501 - accuracy: 0.9839 - val_loss: 0.0403 - val_accuracy: 0.9875\n",
            "Epoch 9/10\n",
            "1875/1875 [==============================] - 10s 5ms/step - loss: 0.0458 - accuracy: 0.9853 - val_loss: 0.0443 - val_accuracy: 0.9863\n",
            "Epoch 10/10\n",
            "1875/1875 [==============================] - 9s 5ms/step - loss: 0.0420 - accuracy: 0.9863 - val_loss: 0.0416 - val_accuracy: 0.9866\n"
          ],
          "name": "stdout"
        }
      ]
    },
    {
      "cell_type": "code",
      "metadata": {
        "id": "P9RH4p_-8tDn",
        "outputId": "49f7168e-c664-456c-facc-0af84543b67c",
        "colab": {
          "base_uri": "https://localhost:8080/",
          "height": 265
        }
      },
      "source": [
        "plt.title('Accuracy')\n",
        "plt.plot(hist.epoch, hist.history['accuracy'])\n",
        "plt.plot(hist.epoch, hist.history['val_accuracy'])\n",
        "plt.legend(['Training accuracy', 'Validation accuracy'])\n",
        "plt.show();"
      ],
      "execution_count": 256,
      "outputs": [
        {
          "output_type": "display_data",
          "data": {
            "image/png": "[encoded data removed]",
            "text/plain": [
              "<Figure size 432x288 with 1 Axes>"
            ]
          },
          "metadata": {
            "tags": [],
            "needs_background": "light"
          }
        }
      ]
    },
    {
      "cell_type": "code",
      "metadata": {
        "id": "_KR_oHkfArwB",
        "outputId": "7b04ee49-f6ed-4fd3-f7ab-555b1944d24e",
        "colab": {
          "base_uri": "https://localhost:8080/",
          "height": 265
        }
      },
      "source": [
        "plt.title('Loss')\n",
        "plt.plot(hist.epoch, hist.history['loss'])\n",
        "plt.plot(hist.epoch, hist.history['val_loss'])\n",
        "plt.legend(['Trainig loss', 'Validation loss'])\n",
        "plt.show();"
      ],
      "execution_count": 257,
      "outputs": [
        {
          "output_type": "display_data",
          "data": {
            "image/png": "[encoded data removed]",
            "text/plain": [
              "<Figure size 432x288 with 1 Axes>"
            ]
          },
          "metadata": {
            "tags": [],
            "needs_background": "light"
          }
        }
      ]
    },
    {
      "cell_type": "code",
      "metadata": {
        "id": "s7D63QmKhgOe"
      },
      "source": [
        "p_dev = np.argmax(model.predict(X_dev), axis=1)\n",
        "p_train = np.argmax(model.predict(X_train), axis=1)"
      ],
      "execution_count": 259,
      "outputs": []
    },
    {
      "cell_type": "code",
      "metadata": {
        "colab": {
          "base_uri": "https://localhost:8080/"
        },
        "id": "1LigJ_8Gjklg",
        "outputId": "cb8efdab-b075-4e93-e19c-e7b7fdc4c96d"
      },
      "source": [
        "print(\"DEV F1 SCORE: \", f1_score(y_dev, p_dev, average='weighted'))\n",
        "print(\"TRAIN F1 SCORE: \", f1_score(y_train, p_train, average='weighted'))"
      ],
      "execution_count": 260,
      "outputs": [
        {
          "output_type": "stream",
          "text": [
            "DEV F1 SCORE:  0.9932988158152987\n",
            "TRAIN F1 SCORE:  0.9961164107285306\n"
          ],
          "name": "stdout"
        }
      ]
    },
    {
      "cell_type": "code",
      "metadata": {
        "colab": {
          "base_uri": "https://localhost:8080/",
          "height": 376
        },
        "id": "lc1P-nzrkbK5",
        "outputId": "b6698de6-52ba-43e4-c444-5dadc3799ff5"
      },
      "source": [
        "print(\"DEV CONFUSION MATRIX:\")\n",
        "pd.DataFrame(confusion_matrix(y_dev, p_dev))"
      ],
      "execution_count": 263,
      "outputs": [
        {
          "output_type": "stream",
          "text": [
            "DEV CONFUSION MATRIX:\n"
          ],
          "name": "stdout"
        },
        {
          "output_type": "execute_result",
          "data": {
            "text/html": [
              "<div>\n",
              "<style scoped>\n",
              "    .dataframe tbody tr th:only-of-type {\n",
              "        vertical-align: middle;\n",
              "    }\n",
              "\n",
              "    .dataframe tbody tr th {\n",
              "        vertical-align: top;\n",
              "    }\n",
              "\n",
              "    .dataframe thead th {\n",
              "        text-align: right;\n",
              "    }\n",
              "</style>\n",
              "<table border=\"1\" class=\"dataframe\">\n",
              "  <thead>\n",
              "    <tr style=\"text-align: right;\">\n",
              "      <th></th>\n",
              "      <th>0</th>\n",
              "      <th>1</th>\n",
              "      <th>2</th>\n",
              "      <th>3</th>\n",
              "      <th>4</th>\n",
              "      <th>5</th>\n",
              "      <th>6</th>\n",
              "      <th>7</th>\n",
              "      <th>8</th>\n",
              "      <th>9</th>\n",
              "    </tr>\n",
              "  </thead>\n",
              "  <tbody>\n",
              "    <tr>\n",
              "      <th>0</th>\n",
              "      <td>976</td>\n",
              "      <td>0</td>\n",
              "      <td>0</td>\n",
              "      <td>0</td>\n",
              "      <td>0</td>\n",
              "      <td>0</td>\n",
              "      <td>2</td>\n",
              "      <td>1</td>\n",
              "      <td>1</td>\n",
              "      <td>0</td>\n",
              "    </tr>\n",
              "    <tr>\n",
              "      <th>1</th>\n",
              "      <td>1</td>\n",
              "      <td>1127</td>\n",
              "      <td>1</td>\n",
              "      <td>2</td>\n",
              "      <td>0</td>\n",
              "      <td>0</td>\n",
              "      <td>2</td>\n",
              "      <td>1</td>\n",
              "      <td>1</td>\n",
              "      <td>0</td>\n",
              "    </tr>\n",
              "    <tr>\n",
              "      <th>2</th>\n",
              "      <td>0</td>\n",
              "      <td>1</td>\n",
              "      <td>1026</td>\n",
              "      <td>0</td>\n",
              "      <td>2</td>\n",
              "      <td>0</td>\n",
              "      <td>0</td>\n",
              "      <td>3</td>\n",
              "      <td>0</td>\n",
              "      <td>0</td>\n",
              "    </tr>\n",
              "    <tr>\n",
              "      <th>3</th>\n",
              "      <td>0</td>\n",
              "      <td>0</td>\n",
              "      <td>1</td>\n",
              "      <td>1008</td>\n",
              "      <td>0</td>\n",
              "      <td>1</td>\n",
              "      <td>0</td>\n",
              "      <td>0</td>\n",
              "      <td>0</td>\n",
              "      <td>0</td>\n",
              "    </tr>\n",
              "    <tr>\n",
              "      <th>4</th>\n",
              "      <td>0</td>\n",
              "      <td>0</td>\n",
              "      <td>0</td>\n",
              "      <td>0</td>\n",
              "      <td>980</td>\n",
              "      <td>0</td>\n",
              "      <td>0</td>\n",
              "      <td>0</td>\n",
              "      <td>1</td>\n",
              "      <td>1</td>\n",
              "    </tr>\n",
              "    <tr>\n",
              "      <th>5</th>\n",
              "      <td>0</td>\n",
              "      <td>0</td>\n",
              "      <td>0</td>\n",
              "      <td>5</td>\n",
              "      <td>0</td>\n",
              "      <td>886</td>\n",
              "      <td>1</td>\n",
              "      <td>0</td>\n",
              "      <td>0</td>\n",
              "      <td>0</td>\n",
              "    </tr>\n",
              "    <tr>\n",
              "      <th>6</th>\n",
              "      <td>2</td>\n",
              "      <td>4</td>\n",
              "      <td>0</td>\n",
              "      <td>0</td>\n",
              "      <td>1</td>\n",
              "      <td>2</td>\n",
              "      <td>948</td>\n",
              "      <td>0</td>\n",
              "      <td>1</td>\n",
              "      <td>0</td>\n",
              "    </tr>\n",
              "    <tr>\n",
              "      <th>7</th>\n",
              "      <td>0</td>\n",
              "      <td>2</td>\n",
              "      <td>3</td>\n",
              "      <td>0</td>\n",
              "      <td>2</td>\n",
              "      <td>0</td>\n",
              "      <td>0</td>\n",
              "      <td>1020</td>\n",
              "      <td>0</td>\n",
              "      <td>1</td>\n",
              "    </tr>\n",
              "    <tr>\n",
              "      <th>8</th>\n",
              "      <td>1</td>\n",
              "      <td>0</td>\n",
              "      <td>2</td>\n",
              "      <td>1</td>\n",
              "      <td>0</td>\n",
              "      <td>1</td>\n",
              "      <td>0</td>\n",
              "      <td>1</td>\n",
              "      <td>966</td>\n",
              "      <td>2</td>\n",
              "    </tr>\n",
              "    <tr>\n",
              "      <th>9</th>\n",
              "      <td>0</td>\n",
              "      <td>0</td>\n",
              "      <td>0</td>\n",
              "      <td>0</td>\n",
              "      <td>7</td>\n",
              "      <td>5</td>\n",
              "      <td>0</td>\n",
              "      <td>0</td>\n",
              "      <td>1</td>\n",
              "      <td>996</td>\n",
              "    </tr>\n",
              "  </tbody>\n",
              "</table>\n",
              "</div>"
            ],
            "text/plain": [
              "     0     1     2     3    4    5    6     7    8    9\n",
              "0  976     0     0     0    0    0    2     1    1    0\n",
              "1    1  1127     1     2    0    0    2     1    1    0\n",
              "2    0     1  1026     0    2    0    0     3    0    0\n",
              "3    0     0     1  1008    0    1    0     0    0    0\n",
              "4    0     0     0     0  980    0    0     0    1    1\n",
              "5    0     0     0     5    0  886    1     0    0    0\n",
              "6    2     4     0     0    1    2  948     0    1    0\n",
              "7    0     2     3     0    2    0    0  1020    0    1\n",
              "8    1     0     2     1    0    1    0     1  966    2\n",
              "9    0     0     0     0    7    5    0     0    1  996"
            ]
          },
          "metadata": {
            "tags": []
          },
          "execution_count": 263
        }
      ]
    },
    {
      "cell_type": "markdown",
      "metadata": {
        "id": "sG9fZJI6ks7K"
      },
      "source": [
        "**TODO:**   \n",
        "1. anomaly detection / outlier removal\n",
        "2. Retrain the net with better data\n",
        "3. test the network with external data\n",
        "4. if succesful save the net and load in the web app, else repeat the steps again"
      ]
    },
    {
      "cell_type": "code",
      "metadata": {
        "id": "UcSp5-FAmAmk"
      },
      "source": [
        "p_train_logits = model.predict(X_train)"
      ],
      "execution_count": 18,
      "outputs": []
    },
    {
      "cell_type": "code",
      "metadata": {
        "id": "EOWy6RVayx0b"
      },
      "source": [
        "def clean_dataset(X, y, y_pred_logits, clean_percent: float = 0.1):\n",
        "    N_TO_REMOVE = round(X.shape[0] * clean_percent)\n",
        "    max_accuracies_array = np.array(y_pred_logits.max(axis=1))\n",
        "    X_ = X.tolist()\n",
        "    y_ = y.tolist()\n",
        "    all_concat = list(zip(X_, y_, max_accuracies_array.tolist()))\n",
        "    all_concat.sort(key=lambda x: x[2])\n",
        "    X_new, y_new, _ = zip(*all_concat[N_TO_REMOVE:])\n",
        "    return np.array(X_new), np.array(y_new)"
      ],
      "execution_count": 222,
      "outputs": []
    },
    {
      "cell_type": "code",
      "metadata": {
        "id": "DFpsu-GH136J",
        "outputId": "6e13630d-9c17-4dce-99d3-dfd4568d78d0",
        "colab": {
          "base_uri": "https://localhost:8080/"
        }
      },
      "source": [
        "X_train_clean, y_train_clean = clean_dataset(X_train.numpy(), y_train, p_train_logits, 0.05)\n",
        "X_train_clean.shape, y_train_clean.shape"
      ],
      "execution_count": 250,
      "outputs": [
        {
          "output_type": "execute_result",
          "data": {
            "text/plain": [
              "((57000, 28, 28, 1), (57000,))"
            ]
          },
          "metadata": {
            "tags": []
          },
          "execution_count": 250
        }
      ]
    },
    {
      "cell_type": "code",
      "metadata": {
        "id": "CndmJaK3CX3f"
      },
      "source": [
        "X_train_clean_transformed = transformations(X_train_clean)"
      ],
      "execution_count": 267,
      "outputs": []
    },
    {
      "cell_type": "code",
      "metadata": {
        "id": "dlh7J99I7CMv",
        "outputId": "8c403d65-1211-4363-dfa5-f8d8950f08a6",
        "colab": {
          "base_uri": "https://localhost:8080/",
          "height": 282
        }
      },
      "source": [
        "plot_img(X_train_clean[n], y_train_clean[n])"
      ],
      "execution_count": 247,
      "outputs": [
        {
          "output_type": "stream",
          "text": [
            "Number: 9\n"
          ],
          "name": "stdout"
        },
        {
          "output_type": "display_data",
          "data": {
            "image/png": "[encoded data removed]",
            "text/plain": [
              "<Figure size 432x288 with 1 Axes>"
            ]
          },
          "metadata": {
            "tags": [],
            "needs_background": "light"
          }
        }
      ]
    },
    {
      "cell_type": "code",
      "metadata": {
        "id": "OKOPHok88pT3",
        "outputId": "e9d16959-f8c3-400e-a67a-c2787f9364c8",
        "colab": {
          "base_uri": "https://localhost:8080/"
        }
      },
      "source": [
        "model2 = keras.Sequential([\n",
        "    layers.Conv2D(32, (5, 5), activation='relu', input_shape=(28, 28, 1)),\n",
        "    layers.MaxPool2D(2, 2),\n",
        "    layers.Conv2D(16, (5, 5), activation='relu'),\n",
        "    layers.MaxPool2D(2, 2),\n",
        "\n",
        "    layers.Dropout(rate=0.3),\n",
        "\n",
        "    layers.Flatten(),\n",
        "\n",
        "    layers.Dense(units=256, activation='relu'),\n",
        "    layers.Dense(units=10, activation='softmax')\n",
        "])\n",
        "\n",
        "model2.compile(\n",
        "    optimizer='adam',\n",
        "    loss='sparse_categorical_crossentropy',\n",
        "    metrics=['accuracy']\n",
        ")\n",
        "\n",
        "model2.summary()"
      ],
      "execution_count": 270,
      "outputs": [
        {
          "output_type": "stream",
          "text": [
            "Model: \"sequential_6\"\n",
            "_________________________________________________________________\n",
            "Layer (type)                 Output Shape              Param #   \n",
            "=================================================================\n",
            "conv2d_4 (Conv2D)            (None, 24, 24, 32)        832       \n",
            "_________________________________________________________________\n",
            "max_pooling2d_4 (MaxPooling2 (None, 12, 12, 32)        0         \n",
            "_________________________________________________________________\n",
            "conv2d_5 (Conv2D)            (None, 8, 8, 16)          12816     \n",
            "_________________________________________________________________\n",
            "max_pooling2d_5 (MaxPooling2 (None, 4, 4, 16)          0         \n",
            "_________________________________________________________________\n",
            "dropout_2 (Dropout)          (None, 4, 4, 16)          0         \n",
            "_________________________________________________________________\n",
            "flatten_2 (Flatten)          (None, 256)               0         \n",
            "_________________________________________________________________\n",
            "dense_4 (Dense)              (None, 256)               65792     \n",
            "_________________________________________________________________\n",
            "dense_5 (Dense)              (None, 10)                2570      \n",
            "=================================================================\n",
            "Total params: 82,010\n",
            "Trainable params: 82,010\n",
            "Non-trainable params: 0\n",
            "_________________________________________________________________\n"
          ],
          "name": "stdout"
        }
      ]
    },
    {
      "cell_type": "code",
      "metadata": {
        "id": "UT-DssPR7xho",
        "outputId": "e8525475-0f59-4c3d-f09b-9f968d2d4add",
        "colab": {
          "base_uri": "https://localhost:8080/"
        }
      },
      "source": [
        "hist2 = model2.fit(X_train_clean_transformed, y_train_clean, \n",
        "                   batch_size=32, epochs=10, validation_data=(X_dev_transformed, y_dev))"
      ],
      "execution_count": 271,
      "outputs": [
        {
          "output_type": "stream",
          "text": [
            "Epoch 1/10\n",
            "1782/1782 [==============================] - 10s 5ms/step - loss: 0.2959 - accuracy: 0.9060 - val_loss: 0.0858 - val_accuracy: 0.9742\n",
            "Epoch 2/10\n",
            "1782/1782 [==============================] - 9s 5ms/step - loss: 0.0901 - accuracy: 0.9720 - val_loss: 0.0660 - val_accuracy: 0.9798\n",
            "Epoch 3/10\n",
            "1782/1782 [==============================] - 9s 5ms/step - loss: 0.0633 - accuracy: 0.9799 - val_loss: 0.0541 - val_accuracy: 0.9833\n",
            "Epoch 4/10\n",
            "1782/1782 [==============================] - 9s 5ms/step - loss: 0.0515 - accuracy: 0.9843 - val_loss: 0.0560 - val_accuracy: 0.9833\n",
            "Epoch 5/10\n",
            "1782/1782 [==============================] - 9s 5ms/step - loss: 0.0431 - accuracy: 0.9865 - val_loss: 0.0486 - val_accuracy: 0.9853\n",
            "Epoch 6/10\n",
            "1782/1782 [==============================] - 9s 5ms/step - loss: 0.0386 - accuracy: 0.9873 - val_loss: 0.0605 - val_accuracy: 0.9827\n",
            "Epoch 7/10\n",
            "1782/1782 [==============================] - 9s 5ms/step - loss: 0.0340 - accuracy: 0.9892 - val_loss: 0.0484 - val_accuracy: 0.9849\n",
            "Epoch 8/10\n",
            "1782/1782 [==============================] - 9s 5ms/step - loss: 0.0314 - accuracy: 0.9904 - val_loss: 0.0431 - val_accuracy: 0.9874\n",
            "Epoch 9/10\n",
            "1782/1782 [==============================] - 9s 5ms/step - loss: 0.0290 - accuracy: 0.9910 - val_loss: 0.0531 - val_accuracy: 0.9841\n",
            "Epoch 10/10\n",
            "1782/1782 [==============================] - 9s 5ms/step - loss: 0.0280 - accuracy: 0.9914 - val_loss: 0.0387 - val_accuracy: 0.9873\n"
          ],
          "name": "stdout"
        }
      ]
    },
    {
      "cell_type": "code",
      "metadata": {
        "id": "0XMyi_5PCQXQ",
        "outputId": "8deddaca-2013-46d8-f4d7-9dbff2b5b597",
        "colab": {
          "base_uri": "https://localhost:8080/",
          "height": 281
        }
      },
      "source": [
        "plt.title('Accuracy')\n",
        "plt.plot(hist2.epoch, hist2.history['accuracy'])\n",
        "plt.plot(hist2.epoch, hist2.history['val_accuracy'])\n",
        "plt.legend(['Training accuracy', 'Validation accuracy'])\n",
        "plt.show();"
      ],
      "execution_count": 272,
      "outputs": [
        {
          "output_type": "display_data",
          "data": {
            "image/png": "[encoded data removed]",
            "text/plain": [
              "<Figure size 432x288 with 1 Axes>"
            ]
          },
          "metadata": {
            "tags": [],
            "needs_background": "light"
          }
        }
      ]
    },
    {
      "cell_type": "code",
      "metadata": {
        "id": "RLlLYidfDmNb",
        "outputId": "679731e1-2839-4f93-e4d1-377e8a09d474",
        "colab": {
          "base_uri": "https://localhost:8080/",
          "height": 281
        }
      },
      "source": [
        "plt.title('Loss')\n",
        "plt.plot(hist2.epoch, hist2.history['loss'])\n",
        "plt.plot(hist2.epoch, hist2.history['val_loss'])\n",
        "plt.legend(['Trainig loss', 'Validation loss'])\n",
        "plt.show();"
      ],
      "execution_count": 273,
      "outputs": [
        {
          "output_type": "display_data",
          "data": {
            "image/png": "[encoded data removed]",
            "text/plain": [
              "<Figure size 432x288 with 1 Axes>"
            ]
          },
          "metadata": {
            "tags": [],
            "needs_background": "light"
          }
        }
      ]
    },
    {
      "cell_type": "markdown",
      "metadata": {
        "id": "CASGQWd0DvFy"
      },
      "source": [
        "## Comparando os modelos"
      ]
    },
    {
      "cell_type": "code",
      "metadata": {
        "id": "yOgFbXccD4_D",
        "outputId": "e4a5d341-51b3-42d5-c98d-6d56ac7a1dc5",
        "colab": {
          "base_uri": "https://localhost:8080/",
          "height": 281
        }
      },
      "source": [
        "plt.title('Accuracy')\n",
        "plt.plot(hist.epoch, hist.history['val_accuracy'])\n",
        "plt.plot(hist2.epoch, hist2.history['val_accuracy'])\n",
        "plt.legend(['Non cleaned accuracy', 'Cleaned accuracy'])\n",
        "plt.show();"
      ],
      "execution_count": 274,
      "outputs": [
        {
          "output_type": "display_data",
          "data": {
            "image/png": "[encoded data removed]",
            "text/plain": [
              "<Figure size 432x288 with 1 Axes>"
            ]
          },
          "metadata": {
            "tags": [],
            "needs_background": "light"
          }
        }
      ]
    },
    {
      "cell_type": "code",
      "metadata": {
        "id": "TMR3ITIiEEz7",
        "outputId": "9d9d5c84-bc62-4b0c-a9cf-912ec412b71b",
        "colab": {
          "base_uri": "https://localhost:8080/",
          "height": 281
        }
      },
      "source": [
        "plt.title('Loss')\n",
        "plt.plot(hist.epoch, hist.history['val_loss'])\n",
        "plt.plot(hist2.epoch, hist2.history['val_loss'])\n",
        "plt.legend(['Non Cleaned Loss', 'Cleaned Loss'])\n",
        "plt.show();"
      ],
      "execution_count": 275,
      "outputs": [
        {
          "output_type": "display_data",
          "data": {
            "image/png": "[encoded data removed]",
            "text/plain": [
              "<Figure size 432x288 with 1 Axes>"
            ]
          },
          "metadata": {
            "tags": [],
            "needs_background": "light"
          }
        }
      ]
    },
    {
      "cell_type": "code",
      "metadata": {
        "id": "j3f7ga-KEm7B",
        "outputId": "549cbbd6-4b8d-4065-ee11-7265b00b8df4",
        "colab": {
          "base_uri": "https://localhost:8080/"
        }
      },
      "source": [
        "print(\"Non cleaned F1 Score:\", f1_score(y_dev, np.argmax(model.predict(X_dev), axis=1), average='weighted'))\n",
        "print(\"Cleaned F1 Score:\", f1_score(y_dev, np.argmax(model2.predict(X_dev), axis=1), average='weighted'))"
      ],
      "execution_count": 277,
      "outputs": [
        {
          "output_type": "stream",
          "text": [
            "Non cleaned F1 Score: 0.9932988158152987\n",
            "Cleaned F1 Score: 0.9909054612950371\n"
          ],
          "name": "stdout"
        }
      ]
    },
    {
      "cell_type": "markdown",
      "metadata": {
        "id": "1Ms1N24BFUrB"
      },
      "source": [
        "### Analysing  the results"
      ]
    },
    {
      "cell_type": "markdown",
      "metadata": {
        "id": "bUYe2Fr8FpuR"
      },
      "source": [
        "Apparently, the model trained with the cleaned data seems to be working worse than the first one, but if we pay attention to the fact that the dev data was not cleaned although it was used for validating the model trained with the cleaned data, so in real data, the results may be different."
      ]
    },
    {
      "cell_type": "code",
      "metadata": {
        "id": "L_4Yd3RqGScP"
      },
      "source": [
        ""
      ],
      "execution_count": null,
      "outputs": []
    }
  ]
}